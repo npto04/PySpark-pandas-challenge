{
  "nbformat": 4,
  "nbformat_minor": 0,
  "metadata": {
    "colab": {
      "name": "PYSPARK-SQL-Ney-Oliveira_Projeto-Individual.ipynb",
      "provenance": [],
      "collapsed_sections": [
        "gLu27muDAL91",
        "NPbaze3sAif0",
        "UPif_1EbBtfq",
        "zGpXaR8JBeSf",
        "A1OxCzjcFgr7",
        "lhXrJfDHF3Rt",
        "BxFkxkdpFzWP",
        "QefTkri2JoMg",
        "hRNV8XE3Q7hf",
        "PU9NZinUeT8Y",
        "JVhSQfYvn-2W",
        "iXHNYAvxpQkq",
        "oEE2OlJ-ziam",
        "lxQ3NOrj7SNR",
        "dJ_wLpgNYcj4",
        "0B-_asdBPt37",
        "DG1DJNu4YndM",
        "vJGczsa4L71H",
        "BZyaQ1e1n7pz",
        "oYLcHk1tn_wE",
        "oWNcwHqs8Rh1",
        "i1_nSE-4GCR3",
        "xQv0TJ4aHV8Z",
        "VVkIoZIvOr1h",
        "5HQgMbTPtHxZ",
        "_WTGZM2hIVYL",
        "JJNPs46ZIcVp",
        "PJks9_C4Hi36",
        "sgxWEv5sNrQY",
        "0M-Gn2nFcdJF",
        "o4sbGikidSGv"
      ],
      "authorship_tag": "ABX9TyM/eRF+quduo4G3z+qln/Nj",
      "include_colab_link": true
    },
    "kernelspec": {
      "name": "python3",
      "display_name": "Python 3"
    },
    "language_info": {
      "name": "python"
    }
  },
  "cells": [
    {
      "cell_type": "markdown",
      "metadata": {
        "id": "view-in-github",
        "colab_type": "text"
      },
      "source": [
        "<a href=\"https://colab.research.google.com/github/npto04/PySpark-pandas-challenge/blob/main/PYSPARK_SQL_Ney_Oliveira_Projeto_Individual.ipynb\" target=\"_parent\"><img src=\"https://colab.research.google.com/assets/colab-badge.svg\" alt=\"Open In Colab\"/></a>"
      ]
    },
    {
      "cell_type": "markdown",
      "source": [
        "PROJETO INDIVIDUAL"
      ],
      "metadata": {
        "id": "7dglY0DN_v27"
      }
    },
    {
      "cell_type": "markdown",
      "source": [
        "* Deverá ser montada a estrutura do DataFrame utilizando o StructType.\n",
        "* Verificar a existência de dados inconsistentes, nulos e realizar a limpeza.\n",
        "* Verificar a necessidade de drop em colunas ou linhas. Caso seja necessário, fazer comentário do porque.\n",
        "* Realizar a mudança de nome de pelo menos 2 colunas\n",
        "* Deverá criar pelo menos duas novas colunas contendo alguma informação relevante sobre as outras colunas já existentes (Funções de Agrupamento, Agregação ou Joins). (Use a sua capacidade analítica)\n",
        "* Deverá utilizar filtros, ordenação e agrupamento, trazendo dados relevantes para o negócio em questão. (Use a sua capacidade analítica)\n",
        "* Utilizar pelo menos duas Window Functions\n",
        "\n",
        "\n"
      ],
      "metadata": {
        "id": "Y2tPvawv_rIn"
      }
    },
    {
      "cell_type": "markdown",
      "source": [
        "# INSTALAÇÕES"
      ],
      "metadata": {
        "id": "gLu27muDAL91"
      }
    },
    {
      "cell_type": "code",
      "source": [
        "!pip install -q pyspark"
      ],
      "metadata": {
        "id": "c0-k93SGASWr",
        "colab": {
          "base_uri": "https://localhost:8080/"
        },
        "outputId": "a46fb815-85ab-4cfb-ff89-7c80478b557d"
      },
      "execution_count": null,
      "outputs": [
        {
          "output_type": "stream",
          "name": "stdout",
          "text": [
            "\u001b[K     |████████████████████████████████| 281.4 MB 35 kB/s \n",
            "\u001b[K     |████████████████████████████████| 198 kB 42.1 MB/s \n",
            "\u001b[?25h  Building wheel for pyspark (setup.py) ... \u001b[?25l\u001b[?25hdone\n"
          ]
        }
      ]
    },
    {
      "cell_type": "markdown",
      "source": [
        "# IMPORTAÇÕES"
      ],
      "metadata": {
        "id": "NPbaze3sAif0"
      }
    },
    {
      "cell_type": "code",
      "source": [
        "from pyspark.sql import SparkSession\n",
        "from pyspark import SparkConf\n",
        "from pyspark.sql import functions as F\n",
        "from pyspark.sql.types import *\n",
        "from google.colab import drive\n",
        "from pyspark.sql.window import Window"
      ],
      "metadata": {
        "id": "Prf35IoDAkpK"
      },
      "execution_count": null,
      "outputs": []
    },
    {
      "cell_type": "markdown",
      "source": [
        "# CRIANDO SESSÃO"
      ],
      "metadata": {
        "id": "UPif_1EbBtfq"
      }
    },
    {
      "cell_type": "markdown",
      "source": [
        "## Caminho do Google Cloud Storage conector\n",
        "\n"
      ],
      "metadata": {
        "id": "zGpXaR8JBeSf"
      }
    },
    {
      "cell_type": "markdown",
      "source": [
        "Deve ser baixado para rodar e atualizar caminho:\n",
        "[Download](https://cloud.google.com/dataproc/docs/concepts/connectors/cloud-storage)"
      ],
      "metadata": {
        "id": "-5YLpFqWFUFS"
      }
    },
    {
      "cell_type": "code",
      "source": [
        "gcs_conector = 'https://storage.googleapis.com/hadoop-lib/gcs/gcs-connector-hadoop3-latest.jar'"
      ],
      "metadata": {
        "id": "a7gqiBRqBhYq"
      },
      "execution_count": null,
      "outputs": []
    },
    {
      "cell_type": "markdown",
      "source": [
        "## Autenticação"
      ],
      "metadata": {
        "id": "PDrQXdgzE8jH"
      }
    },
    {
      "cell_type": "markdown",
      "source": [
        "Antes de começar é preciso ter um JSON arquivo de chave para o conector poder se autenticar com Google Cloud Storage. Clique aqui para entender ou aqui para como obter esse JSON.\n",
        "\n",
        "Após eu ter adquirido o JSON, eu pude configurar o framework (PySpark no caso) para usar o GCS connector quando acessando dados no Google Cloud Storage."
      ],
      "metadata": {
        "id": "kkh9pFsBCH4k"
      }
    },
    {
      "cell_type": "code",
      "source": [
        "drive.mount('/content/drive')\n",
        "serviceAccount = \"/content/drive/MyDrive/credentials/ney-oliveira-proj-individual-9e7fc090bd42.json\""
      ],
      "metadata": {
        "colab": {
          "base_uri": "https://localhost:8080/"
        },
        "id": "G-1LHZHVE_wn",
        "outputId": "a99d7945-33b9-4bbf-9c9e-4b03b6185d7a"
      },
      "execution_count": null,
      "outputs": [
        {
          "output_type": "stream",
          "name": "stdout",
          "text": [
            "Mounted at /content/drive\n"
          ]
        }
      ]
    },
    {
      "cell_type": "markdown",
      "source": [
        "## Sessão"
      ],
      "metadata": {
        "id": "XCo3VOGtD3-z"
      }
    },
    {
      "cell_type": "code",
      "source": [
        "spark = (SparkSession.builder\n",
        "        .master(\"local[*]\")\n",
        "        .appName(\"projeto-individual\")\n",
        "        .config('spark.ui.port', '4050')\n",
        "        .config('spark.jars', gcs_conector)\n",
        "        .config('spark.hadoop.fs.gs.impl','com.google.cloud.hadoop.fs.gcs.GoogleHadoopFileSystem')\n",
        "        .config('spark.hadoop.fs.gs.auth.service.account.enable', 'true')\n",
        "        .config(\"google.cloud.auth.service.account.json.keyfile\",serviceAccount)\n",
        "        .getOrCreate())"
      ],
      "metadata": {
        "id": "ccmlCMABECME"
      },
      "execution_count": null,
      "outputs": []
    },
    {
      "cell_type": "code",
      "source": [
        "spark"
      ],
      "metadata": {
        "colab": {
          "base_uri": "https://localhost:8080/",
          "height": 219
        },
        "id": "-zvaJuOHE0nc",
        "outputId": "4eb5745c-569d-4959-f13f-883976f57956"
      },
      "execution_count": null,
      "outputs": [
        {
          "output_type": "execute_result",
          "data": {
            "text/plain": [
              "<pyspark.sql.session.SparkSession at 0x7f9fd3dcf550>"
            ],
            "text/html": [
              "\n",
              "            <div>\n",
              "                <p><b>SparkSession - in-memory</b></p>\n",
              "                \n",
              "        <div>\n",
              "            <p><b>SparkContext</b></p>\n",
              "\n",
              "            <p><a href=\"http://722ddb71e09e:4050\">Spark UI</a></p>\n",
              "\n",
              "            <dl>\n",
              "              <dt>Version</dt>\n",
              "                <dd><code>v3.2.1</code></dd>\n",
              "              <dt>Master</dt>\n",
              "                <dd><code>local[*]</code></dd>\n",
              "              <dt>AppName</dt>\n",
              "                <dd><code>projeto-individual</code></dd>\n",
              "            </dl>\n",
              "        </div>\n",
              "        \n",
              "            </div>\n",
              "        "
            ]
          },
          "metadata": {},
          "execution_count": 6
        }
      ]
    },
    {
      "cell_type": "markdown",
      "source": [
        "# Extrair base de dados do Google Cloud Storage"
      ],
      "metadata": {
        "id": "A1OxCzjcFgr7"
      }
    },
    {
      "cell_type": "markdown",
      "source": [
        "## Caminho do CSV no GCS"
      ],
      "metadata": {
        "id": "lhXrJfDHF3Rt"
      }
    },
    {
      "cell_type": "code",
      "source": [
        "caminho = 'gs://ney-oliveira-proj-individual/arquivos-tratados/marketing_campaign.csv'"
      ],
      "metadata": {
        "id": "z8T4Bu8FFnxH"
      },
      "execution_count": null,
      "outputs": []
    },
    {
      "cell_type": "markdown",
      "source": [
        "## Criando esquema"
      ],
      "metadata": {
        "id": "BxFkxkdpFzWP"
      }
    },
    {
      "cell_type": "code",
      "source": [
        "esquema = (\n",
        "    StructType([\n",
        "        StructField(\"ID\",IntegerType()),\n",
        "        StructField(\"AnoNascimento\", IntegerType()),\n",
        "        StructField(\"Educacao\", StringType()),\n",
        "        StructField(\"EstadoCivil\", StringType()),\n",
        "        StructField(\"Renda\", FloatType()),\n",
        "        StructField(\"CriancasSobTutela\", IntegerType()),\n",
        "        StructField(\"AdolescenteSobTutela\", IntegerType()),\n",
        "        StructField(\"DataCadastro\", DateType()),\n",
        "        StructField(\"DiasDesdeUltimaCompra\", IntegerType()),\n",
        "        StructField(\"Gasto_Vinho\", IntegerType()),\n",
        "        StructField(\"Gasto_Frutas\", IntegerType()),\n",
        "        StructField(\"Gasto_Carnes\", IntegerType()),\n",
        "        StructField(\"Gasto_Peixes\", IntegerType()),\n",
        "        StructField(\"Gasto_Doces\", IntegerType()),\n",
        "        StructField(\"Gasto_Ouro\", IntegerType()),\n",
        "        StructField(\"NumComprasComDesconto\", IntegerType()),\n",
        "        StructField(\"NumComprasOnline\", IntegerType()),\n",
        "        StructField(\"NumComprasCatalogo\", IntegerType()),\n",
        "        StructField(\"NumComprasLoja\", IntegerType()),\n",
        "        StructField(\"NumVisitasSite\", IntegerType()),\n",
        "        StructField(\"AceitouCampanha3\", BooleanType()),\n",
        "        StructField(\"AceitouCampanha4\", BooleanType()),\n",
        "        StructField(\"AceitouCampanha5\", BooleanType()),\n",
        "        StructField(\"AceitouCampanha1\", BooleanType()),\n",
        "        StructField(\"AceitouCampanha2\", BooleanType()),\n",
        "        StructField(\"Reclamou\", BooleanType()),\n",
        "        StructField(\"AceitouUltimaCampanha\", BooleanType()),\n",
        "    ])\n",
        ")"
      ],
      "metadata": {
        "id": "eCO-UrojGB-J"
      },
      "execution_count": null,
      "outputs": []
    },
    {
      "cell_type": "markdown",
      "source": [
        "## Extraindo dados com esquema para um DataFrame do PySpark"
      ],
      "metadata": {
        "id": "QefTkri2JoMg"
      }
    },
    {
      "cell_type": "code",
      "source": [
        "df = (\n",
        "    spark\n",
        "       .read\n",
        "       .format(\"csv\")\n",
        "       .option(\"header\", \"true\")\n",
        "       .option(\"delimiter\", \",\")\n",
        "       .load(caminho,schema=esquema)\n",
        ")"
      ],
      "metadata": {
        "id": "1oMskHHwJwaF"
      },
      "execution_count": null,
      "outputs": []
    },
    {
      "cell_type": "code",
      "source": [
        "df.printSchema()"
      ],
      "metadata": {
        "id": "HJQTuo9DQIki",
        "colab": {
          "base_uri": "https://localhost:8080/"
        },
        "outputId": "33c269ff-cf2b-4f59-9671-d2fde66ea2eb"
      },
      "execution_count": null,
      "outputs": [
        {
          "output_type": "stream",
          "name": "stdout",
          "text": [
            "root\n",
            " |-- ID: integer (nullable = true)\n",
            " |-- AnoNascimento: integer (nullable = true)\n",
            " |-- Educacao: string (nullable = true)\n",
            " |-- EstadoCivil: string (nullable = true)\n",
            " |-- Renda: float (nullable = true)\n",
            " |-- CriancasSobTutela: integer (nullable = true)\n",
            " |-- AdolescenteSobTutela: integer (nullable = true)\n",
            " |-- DataCadastro: date (nullable = true)\n",
            " |-- DiasDesdeUltimaCompra: integer (nullable = true)\n",
            " |-- Gasto_Vinho: integer (nullable = true)\n",
            " |-- Gasto_Frutas: integer (nullable = true)\n",
            " |-- Gasto_Carnes: integer (nullable = true)\n",
            " |-- Gasto_Peixes: integer (nullable = true)\n",
            " |-- Gasto_Doces: integer (nullable = true)\n",
            " |-- Gasto_Ouro: integer (nullable = true)\n",
            " |-- NumComprasComDesconto: integer (nullable = true)\n",
            " |-- NumComprasOnline: integer (nullable = true)\n",
            " |-- NumComprasCatalogo: integer (nullable = true)\n",
            " |-- NumComprasLoja: integer (nullable = true)\n",
            " |-- NumVisitasSite: integer (nullable = true)\n",
            " |-- AceitouCampanha3: boolean (nullable = true)\n",
            " |-- AceitouCampanha4: boolean (nullable = true)\n",
            " |-- AceitouCampanha5: boolean (nullable = true)\n",
            " |-- AceitouCampanha1: boolean (nullable = true)\n",
            " |-- AceitouCampanha2: boolean (nullable = true)\n",
            " |-- Reclamou: boolean (nullable = true)\n",
            " |-- AceitouUltimaCampanha: boolean (nullable = true)\n",
            "\n"
          ]
        }
      ]
    },
    {
      "cell_type": "markdown",
      "source": [
        "# Pré-análise de dados"
      ],
      "metadata": {
        "id": "hRNV8XE3Q7hf"
      }
    },
    {
      "cell_type": "markdown",
      "source": [
        "## Verificando a existência de dados inconsistentes, nulos"
      ],
      "metadata": {
        "id": "BTzpseL7eWuf"
      }
    },
    {
      "cell_type": "code",
      "source": [
        "df.show()"
      ],
      "metadata": {
        "colab": {
          "base_uri": "https://localhost:8080/"
        },
        "id": "oEHOy2yESLIm",
        "outputId": "79bbf075-5b1d-4a6d-f83c-220a52c349d3"
      },
      "execution_count": null,
      "outputs": [
        {
          "output_type": "stream",
          "name": "stdout",
          "text": [
            "+----+-------------+-------------+-------------+-------+-----------------+--------------------+------------+---------------------+-----------+------------+------------+------------+-----------+----------+---------------------+----------------+------------------+--------------+--------------+----------------+----------------+----------------+----------------+----------------+--------+---------------------+\n",
            "|  ID|AnoNascimento|     Educacao|  EstadoCivil|  Renda|CriancasSobTutela|AdolescenteSobTutela|DataCadastro|DiasDesdeUltimaCompra|Gasto_Vinho|Gasto_Frutas|Gasto_Carnes|Gasto_Peixes|Gasto_Doces|Gasto_Ouro|NumComprasComDesconto|NumComprasOnline|NumComprasCatalogo|NumComprasLoja|NumVisitasSite|AceitouCampanha3|AceitouCampanha4|AceitouCampanha5|AceitouCampanha1|AceitouCampanha2|Reclamou|AceitouUltimaCampanha|\n",
            "+----+-------------+-------------+-------------+-------+-----------------+--------------------+------------+---------------------+-----------+------------+------------+------------+-----------+----------+---------------------+----------------+------------------+--------------+--------------+----------------+----------------+----------------+----------------+----------------+--------+---------------------+\n",
            "|5524|         1957|     Superior|     Solteiro|58138.0|                0|                   0|  2012-04-09|                   58|        635|          88|         546|         172|         88|        88|                    3|               8|                10|             4|             7|           false|           false|           false|           false|           false|   false|                 true|\n",
            "|2174|         1954|     Superior|     Solteiro|46344.0|                1|                   1|  2014-08-03|                   38|         11|           1|           6|           2|          1|         6|                    2|               1|                 1|             2|             5|           false|           false|           false|           false|           false|   false|                false|\n",
            "|4141|         1965|     Superior|União Estável|71613.0|                0|                   0|  2013-08-21|                   26|        426|          49|         127|         111|         21|        42|                    1|               8|                 2|            10|             4|           false|           false|           false|           false|           false|   false|                false|\n",
            "|6182|         1984|     Superior|União Estável|26646.0|                1|                   0|  2014-10-02|                   26|         11|           4|          20|          10|          3|         5|                    2|               2|                 0|             4|             6|           false|           false|           false|           false|           false|   false|                false|\n",
            "|5324|         1981|Pós-graduação|       Casado|58293.0|                1|                   0|  2014-01-19|                   94|        173|          43|         118|          46|         27|        15|                    5|               5|                 3|             6|             5|           false|           false|           false|           false|           false|   false|                false|\n",
            "|7446|         1967|Pós-graduação|União Estável|62513.0|                0|                   1|  2013-09-09|                   16|        520|          42|          98|           0|         42|        14|                    2|               6|                 4|            10|             6|           false|           false|           false|           false|           false|   false|                false|\n",
            "| 965|         1971|     Superior|   Divorciado|55635.0|                0|                   1|  2012-11-13|                   34|        235|          65|         164|          50|         49|        27|                    4|               7|                 3|             7|             6|           false|           false|           false|           false|           false|   false|                false|\n",
            "|6177|         1985|Pós-graduação|       Casado|33454.0|                1|                   0|  2013-08-05|                   32|         76|          10|          56|           3|          1|        23|                    2|               4|                 0|             4|             8|           false|           false|           false|           false|           false|   false|                false|\n",
            "|4855|         1974|Pós-graduação|União Estável|30351.0|                1|                   0|  2013-06-06|                   19|         14|           0|          24|           3|          3|         2|                    1|               3|                 0|             2|             9|           false|           false|           false|           false|           false|   false|                 true|\n",
            "|5899|         1950|Pós-graduação|União Estável| 5648.0|                1|                   1|  2014-03-13|                   68|         28|           0|           6|           1|          1|        13|                    1|               1|                 0|             0|            20|            true|           false|           false|           false|           false|   false|                false|\n",
            "|1994|         1983|     Superior|       Casado|52028.5|                1|                   0|  2013-11-15|                   11|          5|           5|           6|           0|          2|         1|                    1|               1|                 0|             2|             7|           false|           false|           false|           false|           false|   false|                false|\n",
            "| 387|         1976|       Básico|       Casado| 7500.0|                0|                   0|  2012-11-13|                   59|          6|          16|          11|          11|          1|        16|                    1|               2|                 0|             3|             8|           false|           false|           false|           false|           false|   false|                false|\n",
            "|2125|         1959|     Superior|   Divorciado|63033.0|                0|                   0|  2013-11-15|                   82|        194|          61|         480|         225|        112|        30|                    1|               3|                 4|             8|             2|           false|           false|           false|           false|           false|   false|                false|\n",
            "|8180|         1952|Pós-graduação|   Divorciado|59354.0|                1|                   1|  2013-11-15|                   53|        233|           2|          53|           3|          5|        14|                    3|               6|                 1|             5|             6|           false|           false|           false|           false|           false|   false|                false|\n",
            "|2569|         1987|     Superior|       Casado|17323.0|                0|                   0|  2012-10-10|                   38|          3|          14|          17|           6|          1|         5|                    1|               1|                 0|             3|             8|           false|           false|           false|           false|           false|   false|                false|\n",
            "|2114|         1946|Pós-graduação|     Solteiro|82800.0|                0|                   0|  2012-11-24|                   23|       1006|          22|         115|          59|         68|        45|                    1|               7|                 6|            12|             3|           false|           false|            true|            true|           false|   false|                 true|\n",
            "|9736|         1980|     Superior|       Casado|41850.0|                1|                   1|  2012-12-24|                   51|         53|           5|          19|           2|         13|         4|                    3|               3|                 0|             3|             8|           false|           false|           false|           false|           false|   false|                false|\n",
            "|4939|         1946|     Superior|União Estável|37760.0|                0|                   0|  2012-08-31|                   20|         84|           5|          38|         150|         12|        28|                    2|               4|                 1|             6|             7|           false|           false|           false|           false|           false|   false|                false|\n",
            "|6565|         1949|Pós-graduação|       Casado|76995.0|                0|                   1|  2013-03-28|                   91|       1012|          80|         498|           0|         16|       176|                    2|              11|                 4|             9|             5|           false|           false|           false|            true|           false|   false|                false|\n",
            "|2278|         1985|     Superior|     Solteiro|33812.0|                1|                   0|  2012-03-11|                   86|          4|          17|          19|          30|         24|        39|                    2|               2|                 1|             3|             6|           false|           false|           false|           false|           false|   false|                false|\n",
            "+----+-------------+-------------+-------------+-------+-----------------+--------------------+------------+---------------------+-----------+------------+------------+------------+-----------+----------+---------------------+----------------+------------------+--------------+--------------+----------------+----------------+----------------+----------------+----------------+--------+---------------------+\n",
            "only showing top 20 rows\n",
            "\n"
          ]
        }
      ]
    },
    {
      "cell_type": "code",
      "source": [
        "df.describe().show()"
      ],
      "metadata": {
        "colab": {
          "base_uri": "https://localhost:8080/"
        },
        "id": "-emIWU7ZROxz",
        "outputId": "b77e2cd7-6be9-4f15-e28b-700ccd48b5a1"
      },
      "execution_count": null,
      "outputs": [
        {
          "output_type": "stream",
          "name": "stdout",
          "text": [
            "+-------+------------------+------------------+--------+-----------+-----------------+-------------------+--------------------+---------------------+------------------+------------------+-----------------+------------------+-----------------+----------------+---------------------+------------------+------------------+-----------------+-----------------+\n",
            "|summary|                ID|     AnoNascimento|Educacao|EstadoCivil|            Renda|  CriancasSobTutela|AdolescenteSobTutela|DiasDesdeUltimaCompra|       Gasto_Vinho|      Gasto_Frutas|     Gasto_Carnes|      Gasto_Peixes|      Gasto_Doces|      Gasto_Ouro|NumComprasComDesconto|  NumComprasOnline|NumComprasCatalogo|   NumComprasLoja|   NumVisitasSite|\n",
            "+-------+------------------+------------------+--------+-----------+-----------------+-------------------+--------------------+---------------------+------------------+------------------+-----------------+------------------+-----------------+----------------+---------------------+------------------+------------------+-----------------+-----------------+\n",
            "|  count|              2240|              2240|    2240|       2240|             2240|               2240|                2240|                 2240|              2240|              2240|             2240|              2240|             2240|            2240|                 2240|              2240|              2240|             2240|             2240|\n",
            "|   mean| 5592.159821428571|1968.8058035714287|    null|       null|52242.59486607143|0.44419642857142855|             0.50625|            49.109375| 303.9357142857143|26.302232142857143|           166.95| 37.52544642857143|27.06294642857143|       44.021875|                2.325| 4.084821428571429|2.6620535714285714|5.790178571428571|5.316517857142857|\n",
            "| stddev|3246.6621975643416|11.984069456885827|    null|       null|25039.06173755773| 0.5383980977345935|  0.5445382307698761|    28.96245280837821|336.59739260537197|39.773433764578584|225.7153725117536|54.628979402878095|41.28049848785491|52.1674389149973|     1.93223750085598|2.7787141473881007|2.9231006555397463|3.250958145674428| 2.42664500954729|\n",
            "|    min|                 0|              1893|  Básico|     Casado|           1730.0|                  0|                   0|                    0|                 0|                 0|                0|                 0|                0|               0|                    0|                 0|                 0|                0|                0|\n",
            "|    max|             11191|              1996|Superior|      Viúvo|         666666.0|                  2|                   2|                   99|              1493|               199|             1725|               259|              263|             362|                   15|                27|                28|               13|               20|\n",
            "+-------+------------------+------------------+--------+-----------+-----------------+-------------------+--------------------+---------------------+------------------+------------------+-----------------+------------------+-----------------+----------------+---------------------+------------------+------------------+-----------------+-----------------+\n",
            "\n"
          ]
        }
      ]
    },
    {
      "cell_type": "markdown",
      "source": [
        "Achar onde e quantos valores `null` existem"
      ],
      "metadata": {
        "id": "62kVToODaNMw"
      }
    },
    {
      "cell_type": "code",
      "source": [
        "df.select([F.count(F.when(F.col(c).isNull(), c)).alias(c) for c in df.columns]).show()"
      ],
      "metadata": {
        "colab": {
          "base_uri": "https://localhost:8080/"
        },
        "id": "VVqbY7nZaS8H",
        "outputId": "8d8da3ad-9222-4574-93df-4fc1368c6ed1"
      },
      "execution_count": null,
      "outputs": [
        {
          "output_type": "stream",
          "name": "stdout",
          "text": [
            "+---+-------------+--------+-----------+-----+-----------------+--------------------+------------+---------------------+-----------+------------+------------+------------+-----------+----------+---------------------+----------------+------------------+--------------+--------------+----------------+----------------+----------------+----------------+----------------+--------+---------------------+\n",
            "| ID|AnoNascimento|Educacao|EstadoCivil|Renda|CriancasSobTutela|AdolescenteSobTutela|DataCadastro|DiasDesdeUltimaCompra|Gasto_Vinho|Gasto_Frutas|Gasto_Carnes|Gasto_Peixes|Gasto_Doces|Gasto_Ouro|NumComprasComDesconto|NumComprasOnline|NumComprasCatalogo|NumComprasLoja|NumVisitasSite|AceitouCampanha3|AceitouCampanha4|AceitouCampanha5|AceitouCampanha1|AceitouCampanha2|Reclamou|AceitouUltimaCampanha|\n",
            "+---+-------------+--------+-----------+-----+-----------------+--------------------+------------+---------------------+-----------+------------+------------+------------+-----------+----------+---------------------+----------------+------------------+--------------+--------------+----------------+----------------+----------------+----------------+----------------+--------+---------------------+\n",
            "|  0|            0|       0|          0|    0|                0|                   0|           0|                    0|          0|           0|           0|           0|          0|         0|                    0|               0|                 0|             0|             0|               0|               0|               0|               0|               0|       0|                    0|\n",
            "+---+-------------+--------+-----------+-----+-----------------+--------------------+------------+---------------------+-----------+------------+------------+------------+-----------+----------+---------------------+----------------+------------------+--------------+--------------+----------------+----------------+----------------+----------------+----------------+--------+---------------------+\n",
            "\n"
          ]
        }
      ]
    },
    {
      "cell_type": "markdown",
      "source": [
        "Achar valores distintos em todas as colunas"
      ],
      "metadata": {
        "id": "92FMLLBSdbF_"
      }
    },
    {
      "cell_type": "code",
      "source": [
        "df.select([F.countDistinct(c).alias(c) for c in df.columns]).show()"
      ],
      "metadata": {
        "colab": {
          "base_uri": "https://localhost:8080/"
        },
        "id": "JqJPBcBeck__",
        "outputId": "2ab24c71-c408-4117-fafa-8bc9dc61530e"
      },
      "execution_count": null,
      "outputs": [
        {
          "output_type": "stream",
          "name": "stdout",
          "text": [
            "+----+-------------+--------+-----------+-----+-----------------+--------------------+------------+---------------------+-----------+------------+------------+------------+-----------+----------+---------------------+----------------+------------------+--------------+--------------+----------------+----------------+----------------+----------------+----------------+--------+---------------------+\n",
            "|  ID|AnoNascimento|Educacao|EstadoCivil|Renda|CriancasSobTutela|AdolescenteSobTutela|DataCadastro|DiasDesdeUltimaCompra|Gasto_Vinho|Gasto_Frutas|Gasto_Carnes|Gasto_Peixes|Gasto_Doces|Gasto_Ouro|NumComprasComDesconto|NumComprasOnline|NumComprasCatalogo|NumComprasLoja|NumVisitasSite|AceitouCampanha3|AceitouCampanha4|AceitouCampanha5|AceitouCampanha1|AceitouCampanha2|Reclamou|AceitouUltimaCampanha|\n",
            "+----+-------------+--------+-----------+-----+-----------------+--------------------+------------+---------------------+-----------+------------+------------+------------+-----------+----------+---------------------+----------------+------------------+--------------+--------------+----------------+----------------+----------------+----------------+----------------+--------+---------------------+\n",
            "|2240|           59|       3|          5| 1976|                3|                   3|         663|                  100|        776|         158|         558|         182|        177|       213|                   15|              15|                14|            14|            16|               2|               2|               2|               2|               2|       2|                    2|\n",
            "+----+-------------+--------+-----------+-----+-----------------+--------------------+------------+---------------------+-----------+------------+------------+------------+-----------+----------+---------------------+----------------+------------------+--------------+--------------+----------------+----------------+----------------+----------------+----------------+--------+---------------------+\n",
            "\n"
          ]
        }
      ]
    },
    {
      "cell_type": "markdown",
      "source": [
        "## Realizar a mudança de nome de colunas por economicidade "
      ],
      "metadata": {
        "id": "PU9NZinUeT8Y"
      }
    },
    {
      "cell_type": "code",
      "source": [
        "df = (df.withColumnRenamed(\"Gasto_Vinho\",\"Vinho\")\n",
        "    .withColumnRenamed(\"Gasto_Frutas\",\"Frutas\")\n",
        "    .withColumnRenamed(\"Gasto_Carnes\", \"Carnes\")\n",
        "    .withColumnRenamed(\"Gasto_Peixes\", \"Peixes\")\n",
        "    .withColumnRenamed(\"Gasto_Doces\", \"Doces\")\n",
        "    .withColumnRenamed(\"Gasto_Ouro\", \"Ouro\")\n",
        "    )"
      ],
      "metadata": {
        "id": "IWhEdZLietA4"
      },
      "execution_count": null,
      "outputs": []
    },
    {
      "cell_type": "markdown",
      "source": [
        "# Tratamento de Dados"
      ],
      "metadata": {
        "id": "JVhSQfYvn-2W"
      }
    },
    {
      "cell_type": "code",
      "source": [
        "df.show()"
      ],
      "metadata": {
        "colab": {
          "base_uri": "https://localhost:8080/"
        },
        "id": "8cIfKEK1oNtw",
        "outputId": "755630a9-9720-483f-dc2a-60e5e5bcc5cf"
      },
      "execution_count": null,
      "outputs": [
        {
          "output_type": "stream",
          "name": "stdout",
          "text": [
            "+----+-------------+-------------+-------------+-------+-----------------+--------------------+------------+---------------------+-----+------+------+------+-----+----+---------------------+----------------+------------------+--------------+--------------+----------------+----------------+----------------+----------------+----------------+--------+---------------------+\n",
            "|  ID|AnoNascimento|     Educacao|  EstadoCivil|  Renda|CriancasSobTutela|AdolescenteSobTutela|DataCadastro|DiasDesdeUltimaCompra|Vinho|Frutas|Carnes|Peixes|Doces|Ouro|NumComprasComDesconto|NumComprasOnline|NumComprasCatalogo|NumComprasLoja|NumVisitasSite|AceitouCampanha3|AceitouCampanha4|AceitouCampanha5|AceitouCampanha1|AceitouCampanha2|Reclamou|AceitouUltimaCampanha|\n",
            "+----+-------------+-------------+-------------+-------+-----------------+--------------------+------------+---------------------+-----+------+------+------+-----+----+---------------------+----------------+------------------+--------------+--------------+----------------+----------------+----------------+----------------+----------------+--------+---------------------+\n",
            "|5524|         1957|     Superior|     Solteiro|58138.0|                0|                   0|  2012-04-09|                   58|  635|    88|   546|   172|   88|  88|                    3|               8|                10|             4|             7|           false|           false|           false|           false|           false|   false|                 true|\n",
            "|2174|         1954|     Superior|     Solteiro|46344.0|                1|                   1|  2014-08-03|                   38|   11|     1|     6|     2|    1|   6|                    2|               1|                 1|             2|             5|           false|           false|           false|           false|           false|   false|                false|\n",
            "|4141|         1965|     Superior|União Estável|71613.0|                0|                   0|  2013-08-21|                   26|  426|    49|   127|   111|   21|  42|                    1|               8|                 2|            10|             4|           false|           false|           false|           false|           false|   false|                false|\n",
            "|6182|         1984|     Superior|União Estável|26646.0|                1|                   0|  2014-10-02|                   26|   11|     4|    20|    10|    3|   5|                    2|               2|                 0|             4|             6|           false|           false|           false|           false|           false|   false|                false|\n",
            "|5324|         1981|Pós-graduação|       Casado|58293.0|                1|                   0|  2014-01-19|                   94|  173|    43|   118|    46|   27|  15|                    5|               5|                 3|             6|             5|           false|           false|           false|           false|           false|   false|                false|\n",
            "|7446|         1967|Pós-graduação|União Estável|62513.0|                0|                   1|  2013-09-09|                   16|  520|    42|    98|     0|   42|  14|                    2|               6|                 4|            10|             6|           false|           false|           false|           false|           false|   false|                false|\n",
            "| 965|         1971|     Superior|   Divorciado|55635.0|                0|                   1|  2012-11-13|                   34|  235|    65|   164|    50|   49|  27|                    4|               7|                 3|             7|             6|           false|           false|           false|           false|           false|   false|                false|\n",
            "|6177|         1985|Pós-graduação|       Casado|33454.0|                1|                   0|  2013-08-05|                   32|   76|    10|    56|     3|    1|  23|                    2|               4|                 0|             4|             8|           false|           false|           false|           false|           false|   false|                false|\n",
            "|4855|         1974|Pós-graduação|União Estável|30351.0|                1|                   0|  2013-06-06|                   19|   14|     0|    24|     3|    3|   2|                    1|               3|                 0|             2|             9|           false|           false|           false|           false|           false|   false|                 true|\n",
            "|5899|         1950|Pós-graduação|União Estável| 5648.0|                1|                   1|  2014-03-13|                   68|   28|     0|     6|     1|    1|  13|                    1|               1|                 0|             0|            20|            true|           false|           false|           false|           false|   false|                false|\n",
            "|1994|         1983|     Superior|       Casado|52028.5|                1|                   0|  2013-11-15|                   11|    5|     5|     6|     0|    2|   1|                    1|               1|                 0|             2|             7|           false|           false|           false|           false|           false|   false|                false|\n",
            "| 387|         1976|       Básico|       Casado| 7500.0|                0|                   0|  2012-11-13|                   59|    6|    16|    11|    11|    1|  16|                    1|               2|                 0|             3|             8|           false|           false|           false|           false|           false|   false|                false|\n",
            "|2125|         1959|     Superior|   Divorciado|63033.0|                0|                   0|  2013-11-15|                   82|  194|    61|   480|   225|  112|  30|                    1|               3|                 4|             8|             2|           false|           false|           false|           false|           false|   false|                false|\n",
            "|8180|         1952|Pós-graduação|   Divorciado|59354.0|                1|                   1|  2013-11-15|                   53|  233|     2|    53|     3|    5|  14|                    3|               6|                 1|             5|             6|           false|           false|           false|           false|           false|   false|                false|\n",
            "|2569|         1987|     Superior|       Casado|17323.0|                0|                   0|  2012-10-10|                   38|    3|    14|    17|     6|    1|   5|                    1|               1|                 0|             3|             8|           false|           false|           false|           false|           false|   false|                false|\n",
            "|2114|         1946|Pós-graduação|     Solteiro|82800.0|                0|                   0|  2012-11-24|                   23| 1006|    22|   115|    59|   68|  45|                    1|               7|                 6|            12|             3|           false|           false|            true|            true|           false|   false|                 true|\n",
            "|9736|         1980|     Superior|       Casado|41850.0|                1|                   1|  2012-12-24|                   51|   53|     5|    19|     2|   13|   4|                    3|               3|                 0|             3|             8|           false|           false|           false|           false|           false|   false|                false|\n",
            "|4939|         1946|     Superior|União Estável|37760.0|                0|                   0|  2012-08-31|                   20|   84|     5|    38|   150|   12|  28|                    2|               4|                 1|             6|             7|           false|           false|           false|           false|           false|   false|                false|\n",
            "|6565|         1949|Pós-graduação|       Casado|76995.0|                0|                   1|  2013-03-28|                   91| 1012|    80|   498|     0|   16| 176|                    2|              11|                 4|             9|             5|           false|           false|           false|            true|           false|   false|                false|\n",
            "|2278|         1985|     Superior|     Solteiro|33812.0|                1|                   0|  2012-03-11|                   86|    4|    17|    19|    30|   24|  39|                    2|               2|                 1|             3|             6|           false|           false|           false|           false|           false|   false|                false|\n",
            "+----+-------------+-------------+-------------+-------+-----------------+--------------------+------------+---------------------+-----+------+------+------+-----+----+---------------------+----------------+------------------+--------------+--------------+----------------+----------------+----------------+----------------+----------------+--------+---------------------+\n",
            "only showing top 20 rows\n",
            "\n"
          ]
        }
      ]
    },
    {
      "cell_type": "markdown",
      "source": [
        "## Criar coluna familia"
      ],
      "metadata": {
        "id": "iXHNYAvxpQkq"
      }
    },
    {
      "cell_type": "markdown",
      "source": [
        "Agrupar `CriancasSobTutela` e `AdolescenteSobTutela` sob o mesmo grupo e adicionar cônjuge se houver `EstadoCivil` e dropar-las "
      ],
      "metadata": {
        "id": "wUNXs7iDqnv7"
      }
    },
    {
      "cell_type": "code",
      "source": [
        "[x.EstadoCivil for x in df.select('EstadoCivil').distinct().collect()]"
      ],
      "metadata": {
        "colab": {
          "base_uri": "https://localhost:8080/"
        },
        "id": "0UntxCBfrkOE",
        "outputId": "92059113-a0ce-4a51-96df-3c3470ae78b7"
      },
      "execution_count": null,
      "outputs": [
        {
          "output_type": "execute_result",
          "data": {
            "text/plain": [
              "['Viúvo', 'Divorciado', 'Solteiro', 'Casado', 'União Estável']"
            ]
          },
          "metadata": {},
          "execution_count": 17
        }
      ]
    },
    {
      "cell_type": "markdown",
      "source": [
        "Adiciona conjuge quando EstadoCivil for Casado ou União Estavel"
      ],
      "metadata": {
        "id": "14KJvLqrrxjX"
      }
    },
    {
      "cell_type": "code",
      "source": [
        "casais = ['Casado', 'União Estável']\n",
        "df = (df.withColumn(\"Familia\", F.when(F.col(\"EstadoCivil\").isin(casais), F.col('AdolescenteSobTutela')+F.col('CriancasSobTutela')+2)\n",
        "                    .otherwise(1+F.col('AdolescenteSobTutela')+F.col('CriancasSobTutela'))))"
      ],
      "metadata": {
        "id": "RaOwP_pdpPVC"
      },
      "execution_count": null,
      "outputs": []
    },
    {
      "cell_type": "markdown",
      "source": [
        "Dropando os reduntantes"
      ],
      "metadata": {
        "id": "SgtkII51tdWt"
      }
    },
    {
      "cell_type": "code",
      "source": [
        "df = df.drop(\"CriancasSobTutela\",\"AdolescenteSobTutela\", \"EstadoCivil\")"
      ],
      "metadata": {
        "id": "yXdsMX5GuicH"
      },
      "execution_count": null,
      "outputs": []
    },
    {
      "cell_type": "code",
      "source": [
        "df.show()"
      ],
      "metadata": {
        "colab": {
          "base_uri": "https://localhost:8080/"
        },
        "id": "gzQlNOI2wKxl",
        "outputId": "d47afb3b-e1a1-4fa0-fd1f-9aa0014c0fcf"
      },
      "execution_count": null,
      "outputs": [
        {
          "output_type": "stream",
          "name": "stdout",
          "text": [
            "+----+-------------+-------------+-------+------------+---------------------+-----+------+------+------+-----+----+---------------------+----------------+------------------+--------------+--------------+----------------+----------------+----------------+----------------+----------------+--------+---------------------+-------+\n",
            "|  ID|AnoNascimento|     Educacao|  Renda|DataCadastro|DiasDesdeUltimaCompra|Vinho|Frutas|Carnes|Peixes|Doces|Ouro|NumComprasComDesconto|NumComprasOnline|NumComprasCatalogo|NumComprasLoja|NumVisitasSite|AceitouCampanha3|AceitouCampanha4|AceitouCampanha5|AceitouCampanha1|AceitouCampanha2|Reclamou|AceitouUltimaCampanha|Familia|\n",
            "+----+-------------+-------------+-------+------------+---------------------+-----+------+------+------+-----+----+---------------------+----------------+------------------+--------------+--------------+----------------+----------------+----------------+----------------+----------------+--------+---------------------+-------+\n",
            "|5524|         1957|     Superior|58138.0|  2012-04-09|                   58|  635|    88|   546|   172|   88|  88|                    3|               8|                10|             4|             7|           false|           false|           false|           false|           false|   false|                 true|      1|\n",
            "|2174|         1954|     Superior|46344.0|  2014-08-03|                   38|   11|     1|     6|     2|    1|   6|                    2|               1|                 1|             2|             5|           false|           false|           false|           false|           false|   false|                false|      3|\n",
            "|4141|         1965|     Superior|71613.0|  2013-08-21|                   26|  426|    49|   127|   111|   21|  42|                    1|               8|                 2|            10|             4|           false|           false|           false|           false|           false|   false|                false|      2|\n",
            "|6182|         1984|     Superior|26646.0|  2014-10-02|                   26|   11|     4|    20|    10|    3|   5|                    2|               2|                 0|             4|             6|           false|           false|           false|           false|           false|   false|                false|      3|\n",
            "|5324|         1981|Pós-graduação|58293.0|  2014-01-19|                   94|  173|    43|   118|    46|   27|  15|                    5|               5|                 3|             6|             5|           false|           false|           false|           false|           false|   false|                false|      3|\n",
            "|7446|         1967|Pós-graduação|62513.0|  2013-09-09|                   16|  520|    42|    98|     0|   42|  14|                    2|               6|                 4|            10|             6|           false|           false|           false|           false|           false|   false|                false|      3|\n",
            "| 965|         1971|     Superior|55635.0|  2012-11-13|                   34|  235|    65|   164|    50|   49|  27|                    4|               7|                 3|             7|             6|           false|           false|           false|           false|           false|   false|                false|      2|\n",
            "|6177|         1985|Pós-graduação|33454.0|  2013-08-05|                   32|   76|    10|    56|     3|    1|  23|                    2|               4|                 0|             4|             8|           false|           false|           false|           false|           false|   false|                false|      3|\n",
            "|4855|         1974|Pós-graduação|30351.0|  2013-06-06|                   19|   14|     0|    24|     3|    3|   2|                    1|               3|                 0|             2|             9|           false|           false|           false|           false|           false|   false|                 true|      3|\n",
            "|5899|         1950|Pós-graduação| 5648.0|  2014-03-13|                   68|   28|     0|     6|     1|    1|  13|                    1|               1|                 0|             0|            20|            true|           false|           false|           false|           false|   false|                false|      4|\n",
            "|1994|         1983|     Superior|52028.5|  2013-11-15|                   11|    5|     5|     6|     0|    2|   1|                    1|               1|                 0|             2|             7|           false|           false|           false|           false|           false|   false|                false|      3|\n",
            "| 387|         1976|       Básico| 7500.0|  2012-11-13|                   59|    6|    16|    11|    11|    1|  16|                    1|               2|                 0|             3|             8|           false|           false|           false|           false|           false|   false|                false|      2|\n",
            "|2125|         1959|     Superior|63033.0|  2013-11-15|                   82|  194|    61|   480|   225|  112|  30|                    1|               3|                 4|             8|             2|           false|           false|           false|           false|           false|   false|                false|      1|\n",
            "|8180|         1952|Pós-graduação|59354.0|  2013-11-15|                   53|  233|     2|    53|     3|    5|  14|                    3|               6|                 1|             5|             6|           false|           false|           false|           false|           false|   false|                false|      3|\n",
            "|2569|         1987|     Superior|17323.0|  2012-10-10|                   38|    3|    14|    17|     6|    1|   5|                    1|               1|                 0|             3|             8|           false|           false|           false|           false|           false|   false|                false|      2|\n",
            "|2114|         1946|Pós-graduação|82800.0|  2012-11-24|                   23| 1006|    22|   115|    59|   68|  45|                    1|               7|                 6|            12|             3|           false|           false|            true|            true|           false|   false|                 true|      1|\n",
            "|9736|         1980|     Superior|41850.0|  2012-12-24|                   51|   53|     5|    19|     2|   13|   4|                    3|               3|                 0|             3|             8|           false|           false|           false|           false|           false|   false|                false|      4|\n",
            "|4939|         1946|     Superior|37760.0|  2012-08-31|                   20|   84|     5|    38|   150|   12|  28|                    2|               4|                 1|             6|             7|           false|           false|           false|           false|           false|   false|                false|      2|\n",
            "|6565|         1949|Pós-graduação|76995.0|  2013-03-28|                   91| 1012|    80|   498|     0|   16| 176|                    2|              11|                 4|             9|             5|           false|           false|           false|            true|           false|   false|                false|      3|\n",
            "|2278|         1985|     Superior|33812.0|  2012-03-11|                   86|    4|    17|    19|    30|   24|  39|                    2|               2|                 1|             3|             6|           false|           false|           false|           false|           false|   false|                false|      2|\n",
            "+----+-------------+-------------+-------+------------+---------------------+-----+------+------+------+-----+----+---------------------+----------------+------------------+--------------+--------------+----------------+----------------+----------------+----------------+----------------+--------+---------------------+-------+\n",
            "only showing top 20 rows\n",
            "\n"
          ]
        }
      ]
    },
    {
      "cell_type": "markdown",
      "source": [
        "## Criar faixa de total gasto"
      ],
      "metadata": {
        "id": "oEE2OlJ-ziam"
      }
    },
    {
      "cell_type": "markdown",
      "source": [
        "Criando nova coluna com todos os somando as colunas Vinho|Frutas|Carnes|Peixes|Doces|Ouro"
      ],
      "metadata": {
        "id": "ZgyV-5cyzpbb"
      }
    },
    {
      "cell_type": "code",
      "source": [
        "df = df.withColumn(\"Total_Gasto\", F.col('Vinho')+F.col('Frutas')+F.col('Carnes')+F.col('Peixes')+F.col('Doces')+F.col('Ouro'))"
      ],
      "metadata": {
        "id": "GaDNqLls0aII"
      },
      "execution_count": null,
      "outputs": []
    },
    {
      "cell_type": "code",
      "source": [
        "df = (df.withColumn(\"Faixa_total_gasto\", \n",
        "        F.when((F.col('Total_Gasto') >= 0) & (F.col('Total_Gasto') <= 100), F.lit('Entre 0 e 100'))\n",
        "          .when((F.col('Total_Gasto') > 100) & (F.col('Total_Gasto') <= 500), F.lit('Entre 101 e 500'))\n",
        "          .when((F.col('Total_Gasto') > 500) & (F.col('Total_Gasto') <= 1000), F.lit('Entre 501 e 1000'))\n",
        "          .when((F.col('Total_Gasto') > 1000) & (F.col('Total_Gasto') <= 1500), F.lit('Entre 1001 e 1500'))\n",
        "          .when((F.col('Total_Gasto') > 1500) & (F.col('Total_Gasto') <= 2000), F.lit('Entre 1501 e 2000'))\n",
        "        .otherwise('Maior que 2000')))"
      ],
      "metadata": {
        "id": "wplKbmfMhsGf"
      },
      "execution_count": null,
      "outputs": []
    },
    {
      "cell_type": "markdown",
      "source": [
        "## Faixa de renda"
      ],
      "metadata": {
        "id": "lxQ3NOrj7SNR"
      }
    },
    {
      "cell_type": "code",
      "source": [
        "df = (df.withColumn(\"Faixa_de_rendas\", \n",
        "        F.when((F.col('Renda') >= 0) & (F.col('Renda') <= 5000), F.lit('1-Entre 0 e 5000'))\n",
        "          .when((F.col('Renda') > 5000) & (F.col('Renda') <= 10000), F.lit('2-Entre 5001 e 10000'))\n",
        "          .when((F.col('Renda') > 10000) & (F.col('Renda') <= 25000), F.lit('3-Entre 10001 e 25000'))\n",
        "          .when((F.col('Renda') > 25000) & (F.col('Renda') <= 50000), F.lit('4-Entre 25001 e 50000'))\n",
        "          .when((F.col('Renda') > 50000) & (F.col('Renda') <= 100000), F.lit('5-Entre 50001 e 100000'))\n",
        "        .otherwise('6-Maior que 100000')))"
      ],
      "metadata": {
        "id": "QnQCkjf07WHn"
      },
      "execution_count": null,
      "outputs": []
    },
    {
      "cell_type": "markdown",
      "source": [
        "## Criar faixa de idades"
      ],
      "metadata": {
        "id": "dJ_wLpgNYcj4"
      }
    },
    {
      "cell_type": "code",
      "source": [
        "df = (df.withColumn('idade', F.date_format(F.current_date(), \"yyyy\").cast('int') - F.col('AnoNascimento'))\n",
        ".withColumn(\"Faixa_idade\", \n",
        "        F.when((F.col('idade') >= 0) & (F.col('idade') <= 30), F.lit('Entre 0 e 30'))\n",
        "          .when((F.col('idade') > 30) & (F.col('idade') <= 45), F.lit('Entre 31 e 45'))\n",
        "          .when((F.col('idade') > 45) & (F.col('idade') <= 60), F.lit('Entre 46 e 60'))\n",
        "          .when((F.col('idade') > 60) & (F.col('idade') <= 75), F.lit('Entre 60 e 75'))\n",
        "          .when((F.col('idade') > 75) & (F.col('idade') <= 90), F.lit('Entre 75 e 90'))\n",
        "        .otherwise('Maior que 90')))"
      ],
      "metadata": {
        "id": "lOZd7nKTYeV5"
      },
      "execution_count": null,
      "outputs": []
    },
    {
      "cell_type": "markdown",
      "source": [
        "## Criar faixa de ano de nascimento"
      ],
      "metadata": {
        "id": "0B-_asdBPt37"
      }
    },
    {
      "cell_type": "code",
      "source": [
        "df = (df.withColumn(\"Faixas_ano_nascimento\", \n",
        "        F.when((F.col('AnoNascimento') >= 0) & (F.col('AnoNascimento') <= 1920), F.lit('Antes de 1920'))\n",
        "          .when((F.col('AnoNascimento') > 1920) & (F.col('AnoNascimento') <= 1940), F.lit('Entre 1921 e 1940'))\n",
        "          .when((F.col('AnoNascimento') > 1940) & (F.col('AnoNascimento') <= 1960), F.lit('Entre 1941 e 1960'))\n",
        "          .when((F.col('AnoNascimento') > 1960) & (F.col('AnoNascimento') <= 1980), F.lit('Entre 1961 e 1980'))\n",
        "          .when((F.col('AnoNascimento') > 1980) & (F.col('AnoNascimento') <= 2000), F.lit('Entre 1981 e 2000'))\n",
        "        .otherwise('Depois de 2000')))"
      ],
      "metadata": {
        "id": "sWIOCx92PykY"
      },
      "execution_count": null,
      "outputs": []
    },
    {
      "cell_type": "markdown",
      "source": [
        "## Criar quantidade de compras\n",
        "NumComprasComDesconto|NumComprasOnline|NumComprasCatalogo|NumComprasLoja"
      ],
      "metadata": {
        "id": "DG1DJNu4YndM"
      }
    },
    {
      "cell_type": "code",
      "source": [
        "df = (df.withColumn('QTD_COMPRAS', F.col('NumComprasComDesconto')+F.col('NumComprasOnline')+F.col('NumComprasCatalogo')+F.col('NumComprasLoja'))\n",
        ")"
      ],
      "metadata": {
        "id": "RV2wMOS_Yqrw"
      },
      "execution_count": null,
      "outputs": []
    },
    {
      "cell_type": "code",
      "source": [
        "df = (df.withColumn(\"Faixa_qtd_compras\", \n",
        "        F.when((F.col('QTD_COMPRAS') >= 0) & (F.col('QTD_COMPRAS') <= 8), F.lit('Entre 00 e 08'))\n",
        "          .when((F.col('QTD_COMPRAS') > 8) & (F.col('QTD_COMPRAS') <= 16), F.lit('Entre 09 e 16'))\n",
        "          .when((F.col('QTD_COMPRAS') > 16) & (F.col('QTD_COMPRAS') <= 24), F.lit('Entre 17 e 24'))\n",
        "          .when((F.col('QTD_COMPRAS') > 24) & (F.col('QTD_COMPRAS') <= 32), F.lit('Entre 25 e 32'))\n",
        "          .when((F.col('QTD_COMPRAS') > 32) & (F.col('QTD_COMPRAS') <= 40), F.lit('Entre 33 e 40'))\n",
        "        .otherwise('Maior que 40')))"
      ],
      "metadata": {
        "id": "euHMPZjbadE6"
      },
      "execution_count": null,
      "outputs": []
    },
    {
      "cell_type": "markdown",
      "source": [
        "# Agrupamentos"
      ],
      "metadata": {
        "id": "vJGczsa4L71H"
      }
    },
    {
      "cell_type": "code",
      "source": [
        "df.show()"
      ],
      "metadata": {
        "colab": {
          "base_uri": "https://localhost:8080/"
        },
        "id": "xwNmiCdmNhDU",
        "outputId": "59e00029-83bb-410d-8416-ecf5b448e341"
      },
      "execution_count": null,
      "outputs": [
        {
          "output_type": "stream",
          "name": "stdout",
          "text": [
            "+----+-------------+-------------+-------+------------+---------------------+-----+------+------+------+-----+----+---------------------+----------------+------------------+--------------+--------------+----------------+----------------+----------------+----------------+----------------+--------+---------------------+-------+-----------+-----------------+--------------------+-----+-------------+---------------------+-----------+-----------------+\n",
            "|  ID|AnoNascimento|     Educacao|  Renda|DataCadastro|DiasDesdeUltimaCompra|Vinho|Frutas|Carnes|Peixes|Doces|Ouro|NumComprasComDesconto|NumComprasOnline|NumComprasCatalogo|NumComprasLoja|NumVisitasSite|AceitouCampanha3|AceitouCampanha4|AceitouCampanha5|AceitouCampanha1|AceitouCampanha2|Reclamou|AceitouUltimaCampanha|Familia|Total_Gasto|Faixa_total_gasto|     Faixa_de_rendas|idade|  Faixa_idade|Faixas_ano_nascimento|QTD_COMPRAS|Faixa_qtd_compras|\n",
            "+----+-------------+-------------+-------+------------+---------------------+-----+------+------+------+-----+----+---------------------+----------------+------------------+--------------+--------------+----------------+----------------+----------------+----------------+----------------+--------+---------------------+-------+-----------+-----------------+--------------------+-----+-------------+---------------------+-----------+-----------------+\n",
            "|5524|         1957|     Superior|58138.0|  2012-04-09|                   58|  635|    88|   546|   172|   88|  88|                    3|               8|                10|             4|             7|           false|           false|           false|           false|           false|   false|                 true|      1|       1617|Entre 1501 e 2000|5-Entre 50001 e 1...|   65|Entre 60 e 75|    Entre 1941 e 1960|         25|    Entre 25 e 32|\n",
            "|2174|         1954|     Superior|46344.0|  2014-08-03|                   38|   11|     1|     6|     2|    1|   6|                    2|               1|                 1|             2|             5|           false|           false|           false|           false|           false|   false|                false|      3|         27|    Entre 0 e 100|4-Entre 25001 e 5...|   68|Entre 60 e 75|    Entre 1941 e 1960|          6|    Entre 00 e 08|\n",
            "|4141|         1965|     Superior|71613.0|  2013-08-21|                   26|  426|    49|   127|   111|   21|  42|                    1|               8|                 2|            10|             4|           false|           false|           false|           false|           false|   false|                false|      2|        776| Entre 501 e 1000|5-Entre 50001 e 1...|   57|Entre 46 e 60|    Entre 1961 e 1980|         21|    Entre 17 e 24|\n",
            "|6182|         1984|     Superior|26646.0|  2014-10-02|                   26|   11|     4|    20|    10|    3|   5|                    2|               2|                 0|             4|             6|           false|           false|           false|           false|           false|   false|                false|      3|         53|    Entre 0 e 100|4-Entre 25001 e 5...|   38|Entre 31 e 45|    Entre 1981 e 2000|          8|    Entre 00 e 08|\n",
            "|5324|         1981|Pós-graduação|58293.0|  2014-01-19|                   94|  173|    43|   118|    46|   27|  15|                    5|               5|                 3|             6|             5|           false|           false|           false|           false|           false|   false|                false|      3|        422|  Entre 101 e 500|5-Entre 50001 e 1...|   41|Entre 31 e 45|    Entre 1981 e 2000|         19|    Entre 17 e 24|\n",
            "|7446|         1967|Pós-graduação|62513.0|  2013-09-09|                   16|  520|    42|    98|     0|   42|  14|                    2|               6|                 4|            10|             6|           false|           false|           false|           false|           false|   false|                false|      3|        716| Entre 501 e 1000|5-Entre 50001 e 1...|   55|Entre 46 e 60|    Entre 1961 e 1980|         22|    Entre 17 e 24|\n",
            "| 965|         1971|     Superior|55635.0|  2012-11-13|                   34|  235|    65|   164|    50|   49|  27|                    4|               7|                 3|             7|             6|           false|           false|           false|           false|           false|   false|                false|      2|        590| Entre 501 e 1000|5-Entre 50001 e 1...|   51|Entre 46 e 60|    Entre 1961 e 1980|         21|    Entre 17 e 24|\n",
            "|6177|         1985|Pós-graduação|33454.0|  2013-08-05|                   32|   76|    10|    56|     3|    1|  23|                    2|               4|                 0|             4|             8|           false|           false|           false|           false|           false|   false|                false|      3|        169|  Entre 101 e 500|4-Entre 25001 e 5...|   37|Entre 31 e 45|    Entre 1981 e 2000|         10|    Entre 09 e 16|\n",
            "|4855|         1974|Pós-graduação|30351.0|  2013-06-06|                   19|   14|     0|    24|     3|    3|   2|                    1|               3|                 0|             2|             9|           false|           false|           false|           false|           false|   false|                 true|      3|         46|    Entre 0 e 100|4-Entre 25001 e 5...|   48|Entre 46 e 60|    Entre 1961 e 1980|          6|    Entre 00 e 08|\n",
            "|5899|         1950|Pós-graduação| 5648.0|  2014-03-13|                   68|   28|     0|     6|     1|    1|  13|                    1|               1|                 0|             0|            20|            true|           false|           false|           false|           false|   false|                false|      4|         49|    Entre 0 e 100|2-Entre 5001 e 10000|   72|Entre 60 e 75|    Entre 1941 e 1960|          2|    Entre 00 e 08|\n",
            "|1994|         1983|     Superior|52028.5|  2013-11-15|                   11|    5|     5|     6|     0|    2|   1|                    1|               1|                 0|             2|             7|           false|           false|           false|           false|           false|   false|                false|      3|         19|    Entre 0 e 100|5-Entre 50001 e 1...|   39|Entre 31 e 45|    Entre 1981 e 2000|          4|    Entre 00 e 08|\n",
            "| 387|         1976|       Básico| 7500.0|  2012-11-13|                   59|    6|    16|    11|    11|    1|  16|                    1|               2|                 0|             3|             8|           false|           false|           false|           false|           false|   false|                false|      2|         61|    Entre 0 e 100|2-Entre 5001 e 10000|   46|Entre 46 e 60|    Entre 1961 e 1980|          6|    Entre 00 e 08|\n",
            "|2125|         1959|     Superior|63033.0|  2013-11-15|                   82|  194|    61|   480|   225|  112|  30|                    1|               3|                 4|             8|             2|           false|           false|           false|           false|           false|   false|                false|      1|       1102|Entre 1001 e 1500|5-Entre 50001 e 1...|   63|Entre 60 e 75|    Entre 1941 e 1960|         16|    Entre 09 e 16|\n",
            "|8180|         1952|Pós-graduação|59354.0|  2013-11-15|                   53|  233|     2|    53|     3|    5|  14|                    3|               6|                 1|             5|             6|           false|           false|           false|           false|           false|   false|                false|      3|        310|  Entre 101 e 500|5-Entre 50001 e 1...|   70|Entre 60 e 75|    Entre 1941 e 1960|         15|    Entre 09 e 16|\n",
            "|2569|         1987|     Superior|17323.0|  2012-10-10|                   38|    3|    14|    17|     6|    1|   5|                    1|               1|                 0|             3|             8|           false|           false|           false|           false|           false|   false|                false|      2|         46|    Entre 0 e 100|3-Entre 10001 e 2...|   35|Entre 31 e 45|    Entre 1981 e 2000|          5|    Entre 00 e 08|\n",
            "|2114|         1946|Pós-graduação|82800.0|  2012-11-24|                   23| 1006|    22|   115|    59|   68|  45|                    1|               7|                 6|            12|             3|           false|           false|            true|            true|           false|   false|                 true|      1|       1315|Entre 1001 e 1500|5-Entre 50001 e 1...|   76|Entre 75 e 90|    Entre 1941 e 1960|         26|    Entre 25 e 32|\n",
            "|9736|         1980|     Superior|41850.0|  2012-12-24|                   51|   53|     5|    19|     2|   13|   4|                    3|               3|                 0|             3|             8|           false|           false|           false|           false|           false|   false|                false|      4|         96|    Entre 0 e 100|4-Entre 25001 e 5...|   42|Entre 31 e 45|    Entre 1961 e 1980|          9|    Entre 09 e 16|\n",
            "|4939|         1946|     Superior|37760.0|  2012-08-31|                   20|   84|     5|    38|   150|   12|  28|                    2|               4|                 1|             6|             7|           false|           false|           false|           false|           false|   false|                false|      2|        317|  Entre 101 e 500|4-Entre 25001 e 5...|   76|Entre 75 e 90|    Entre 1941 e 1960|         13|    Entre 09 e 16|\n",
            "|6565|         1949|Pós-graduação|76995.0|  2013-03-28|                   91| 1012|    80|   498|     0|   16| 176|                    2|              11|                 4|             9|             5|           false|           false|           false|            true|           false|   false|                false|      3|       1782|Entre 1501 e 2000|5-Entre 50001 e 1...|   73|Entre 60 e 75|    Entre 1941 e 1960|         26|    Entre 25 e 32|\n",
            "|2278|         1985|     Superior|33812.0|  2012-03-11|                   86|    4|    17|    19|    30|   24|  39|                    2|               2|                 1|             3|             6|           false|           false|           false|           false|           false|   false|                false|      2|        133|  Entre 101 e 500|4-Entre 25001 e 5...|   37|Entre 31 e 45|    Entre 1981 e 2000|          8|    Entre 00 e 08|\n",
            "+----+-------------+-------------+-------+------------+---------------------+-----+------+------+------+-----+----+---------------------+----------------+------------------+--------------+--------------+----------------+----------------+----------------+----------------+----------------+--------+---------------------+-------+-----------+-----------------+--------------------+-----+-------------+---------------------+-----------+-----------------+\n",
            "only showing top 20 rows\n",
            "\n"
          ]
        }
      ]
    },
    {
      "cell_type": "markdown",
      "source": [
        "## Faixa idade"
      ],
      "metadata": {
        "id": "BZyaQ1e1n7pz"
      }
    },
    {
      "cell_type": "code",
      "source": [
        "df.groupby(F.col('Faixa_idade')).agg(F.format_number(F.avg(\"Renda\"),2).alias(\"Renda média por faixa de idade\")).orderBy(F.col(\"Faixa_idade\").asc()).show()\n",
        "df.groupby(F.col('Faixa_idade')).agg(F.mean(\"Renda\").alias(\"Renda média por faixa de idade\")).orderBy(F.col(\"Faixa_idade\").asc()).toPandas().plot.bar(x='Faixa_idade')"
      ],
      "metadata": {
        "colab": {
          "base_uri": "https://localhost:8080/"
        },
        "id": "QcUYoYQpPKRa",
        "outputId": "5d1505e0-adbb-4530-b8f4-10a557673d39"
      },
      "execution_count": null,
      "outputs": [
        {
          "output_type": "stream",
          "name": "stdout",
          "text": [
            "+-------------+------------------------------+\n",
            "|  Faixa_idade|Renda média por faixa de idade|\n",
            "+-------------+------------------------------+\n",
            "| Entre 0 e 30|                     56,265.89|\n",
            "|Entre 31 e 45|                     47,600.41|\n",
            "|Entre 46 e 60|                     51,256.41|\n",
            "|Entre 60 e 75|                     57,219.02|\n",
            "|Entre 75 e 90|                     63,912.68|\n",
            "| Maior que 90|                     60,118.00|\n",
            "+-------------+------------------------------+\n",
            "\n"
          ]
        },
        {
          "output_type": "execute_result",
          "data": {
            "text/plain": [
              "<matplotlib.axes._subplots.AxesSubplot at 0x7f9fcbe72610>"
            ]
          },
          "metadata": {},
          "execution_count": 29
        },
        {
          "output_type": "display_data",
          "data": {
            "text/plain": [
              "<Figure size 432x288 with 1 Axes>"
            ],
            "image/png": "[encoded data removed]"
          },
          "metadata": {
            "needs_background": "light"
          }
        }
      ]
    },
    {
      "cell_type": "code",
      "source": [
        "df.groupby(F.col('Faixa_idade')).agg(F.mean(\"Total_Gasto\").alias(\"Total gasto por faixa de idade\")).orderBy(F.col(\"Faixa_idade\").asc()).toPandas().plot.bar(x='Faixa_idade')\n",
        "df.groupby(F.col('Faixa_idade')).agg(F.format_number(F.mean(\"Total_Gasto\"),2).alias(\"Total gasto por faixa de idade\")).orderBy(F.col(\"Faixa_idade\").asc()).show()"
      ],
      "metadata": {
        "colab": {
          "base_uri": "https://localhost:8080/"
        },
        "id": "xE1qHxEGQol8",
        "outputId": "bbc68a73-bd09-4be5-e04c-9f7544e9ca24"
      },
      "execution_count": null,
      "outputs": [
        {
          "output_type": "stream",
          "name": "stdout",
          "text": [
            "+-------------+------------------------------+\n",
            "|  Faixa_idade|Total gasto por faixa de idade|\n",
            "+-------------+------------------------------+\n",
            "| Entre 0 e 30|                        828.00|\n",
            "|Entre 31 e 45|                        532.27|\n",
            "|Entre 46 e 60|                        569.21|\n",
            "|Entre 60 e 75|                        699.73|\n",
            "|Entre 75 e 90|                        968.00|\n",
            "| Maior que 90|                        646.67|\n",
            "+-------------+------------------------------+\n",
            "\n"
          ]
        },
        {
          "output_type": "display_data",
          "data": {
            "text/plain": [
              "<Figure size 432x288 with 1 Axes>"
            ],
            "image/png": "[encoded data removed]"
          },
          "metadata": {
            "needs_background": "light"
          }
        }
      ]
    },
    {
      "cell_type": "markdown",
      "source": [
        "## Faixa gasto"
      ],
      "metadata": {
        "id": "oYLcHk1tn_wE"
      }
    },
    {
      "cell_type": "code",
      "source": [
        "df.groupby(F.col('Faixa_qtd_compras')).agg(F.format_number(F.avg(\"Renda\"),2).alias(\"Renda média por faixa de QTD de compras\")).orderBy(F.col(\"Faixa_qtd_compras\").asc()).show()\n",
        "df.groupby(F.col('Faixa_qtd_compras')).agg(F.mean(\"Renda\").alias(\"Renda média por faixa de QTD de compras\")).orderBy(F.col(\"Faixa_qtd_compras\").asc()).toPandas().plot.bar(x='Faixa_qtd_compras')"
      ],
      "metadata": {
        "colab": {
          "base_uri": "https://localhost:8080/"
        },
        "id": "9myG35Cun6x_",
        "outputId": "513e73e9-a6fd-49ea-f942-a116a5b1a96c"
      },
      "execution_count": null,
      "outputs": [
        {
          "output_type": "stream",
          "name": "stdout",
          "text": [
            "+-----------------+---------------------------------------+\n",
            "|Faixa_qtd_compras|Renda média por faixa de QTD de compras|\n",
            "+-----------------+---------------------------------------+\n",
            "|    Entre 00 e 08|                              33,732.46|\n",
            "|    Entre 09 e 16|                              47,856.15|\n",
            "|    Entre 17 e 24|                              66,392.86|\n",
            "|    Entre 25 e 32|                              67,936.36|\n",
            "|    Entre 33 e 40|                              74,581.73|\n",
            "|     Maior que 40|                              81,625.00|\n",
            "+-----------------+---------------------------------------+\n",
            "\n"
          ]
        },
        {
          "output_type": "execute_result",
          "data": {
            "text/plain": [
              "<matplotlib.axes._subplots.AxesSubplot at 0x7f9fcb80db50>"
            ]
          },
          "metadata": {},
          "execution_count": 31
        },
        {
          "output_type": "display_data",
          "data": {
            "text/plain": [
              "<Figure size 432x288 with 1 Axes>"
            ],
            "image/png": "[encoded data removed]"
          },
          "metadata": {
            "needs_background": "light"
          }
        }
      ]
    },
    {
      "cell_type": "code",
      "source": [
        "df.groupby(F.col('Faixa_total_gasto')).agg(F.format_number(F.avg(\"Renda\"),2).alias(\"Renda média por faixa de gastos\")).orderBy(F.col(\"Faixa_total_gasto\").asc()).show()\n",
        "df.groupby(F.col('Faixa_total_gasto')).agg(F.mean(\"Renda\").alias(\"Renda média por faixa de gastos\")).orderBy(F.col(\"Faixa_total_gasto\").asc()).toPandas().plot.bar(x='Faixa_total_gasto')"
      ],
      "metadata": {
        "colab": {
          "base_uri": "https://localhost:8080/"
        },
        "id": "JuLUDrenpckz",
        "outputId": "1f64e493-7c19-49be-bae8-e05bb4504528"
      },
      "execution_count": null,
      "outputs": [
        {
          "output_type": "stream",
          "name": "stdout",
          "text": [
            "+-----------------+-------------------------------+\n",
            "|Faixa_total_gasto|Renda média por faixa de gastos|\n",
            "+-----------------+-------------------------------+\n",
            "|    Entre 0 e 100|                      32,829.18|\n",
            "|Entre 1001 e 1500|                      71,323.60|\n",
            "|  Entre 101 e 500|                      45,507.77|\n",
            "|Entre 1501 e 2000|                      78,169.25|\n",
            "| Entre 501 e 1000|                      62,522.70|\n",
            "|   Maior que 2000|                      83,039.34|\n",
            "+-----------------+-------------------------------+\n",
            "\n"
          ]
        },
        {
          "output_type": "execute_result",
          "data": {
            "text/plain": [
              "<matplotlib.axes._subplots.AxesSubplot at 0x7f9fcb29cf50>"
            ]
          },
          "metadata": {},
          "execution_count": 32
        },
        {
          "output_type": "display_data",
          "data": {
            "text/plain": [
              "<Figure size 432x288 with 1 Axes>"
            ],
            "image/png": "[encoded data removed]"
          },
          "metadata": {
            "needs_background": "light"
          }
        }
      ]
    },
    {
      "cell_type": "markdown",
      "source": [
        "## Faixa de renda"
      ],
      "metadata": {
        "id": "oWNcwHqs8Rh1"
      }
    },
    {
      "cell_type": "code",
      "source": [
        "df.groupby(F.col('Faixa_de_rendas'),F.col('Familia')).agg(F.format_number(F.avg(\"Total_Gasto\"),2).alias(\"Media gasto de grupo familiar na faixa de renda\")).orderBy(F.col(\"Faixa_de_rendas\").asc(), F.col(\"Familia\")).show()\n",
        "(df.groupby(F.col('Faixa_de_rendas'),F.col('Familia')).agg(F.mean(\"Total_Gasto\").alias(\"Media gasto de grupo familiar na faixa de renda\")).orderBy(F.col(\"Faixa_de_rendas\").asc(), F.col(\"Familia\"))\n",
        ".toPandas().plot.barh(x='Faixa_de_rendas',y='Media gasto de grupo familiar na faixa de renda',subplots=True,figsize=(10,12)))\n"
      ],
      "metadata": {
        "colab": {
          "base_uri": "https://localhost:8080/"
        },
        "id": "54Ju6dlU1R-v",
        "outputId": "672c9836-f204-48c0-9d59-1664024c5f04"
      },
      "execution_count": null,
      "outputs": [
        {
          "output_type": "stream",
          "name": "stdout",
          "text": [
            "+--------------------+-------+-----------------------------------------------+\n",
            "|     Faixa_de_rendas|Familia|Media gasto de grupo familiar na faixa de renda|\n",
            "+--------------------+-------+-----------------------------------------------+\n",
            "|    1-Entre 0 e 5000|      1|                                           7.00|\n",
            "|    1-Entre 0 e 5000|      2|                                           5.00|\n",
            "|    1-Entre 0 e 5000|      3|                                       1,044.50|\n",
            "|    1-Entre 0 e 5000|      4|                                           9.00|\n",
            "|2-Entre 5001 e 10000|      1|                                         275.50|\n",
            "|2-Entre 5001 e 10000|      2|                                          65.75|\n",
            "|2-Entre 5001 e 10000|      3|                                          90.75|\n",
            "|2-Entre 5001 e 10000|      4|                                          49.00|\n",
            "|3-Entre 10001 e 2...|      1|                                          83.75|\n",
            "|3-Entre 10001 e 2...|      2|                                          68.45|\n",
            "|3-Entre 10001 e 2...|      3|                                          53.95|\n",
            "|3-Entre 10001 e 2...|      4|                                          48.69|\n",
            "|3-Entre 10001 e 2...|      5|                                          37.00|\n",
            "|4-Entre 25001 e 5...|      1|                                         402.18|\n",
            "|4-Entre 25001 e 5...|      2|                                         208.78|\n",
            "|4-Entre 25001 e 5...|      3|                                         163.24|\n",
            "|4-Entre 25001 e 5...|      4|                                         105.85|\n",
            "|4-Entre 25001 e 5...|      5|                                          88.00|\n",
            "|5-Entre 50001 e 1...|      1|                                       1,386.80|\n",
            "|5-Entre 50001 e 1...|      2|                                       1,166.04|\n",
            "+--------------------+-------+-----------------------------------------------+\n",
            "only showing top 20 rows\n",
            "\n"
          ]
        },
        {
          "output_type": "execute_result",
          "data": {
            "text/plain": [
              "array([<matplotlib.axes._subplots.AxesSubplot object at 0x7f9fcb8d5710>],\n",
              "      dtype=object)"
            ]
          },
          "metadata": {},
          "execution_count": 33
        },
        {
          "output_type": "display_data",
          "data": {
            "text/plain": [
              "<Figure size 720x864 with 1 Axes>"
            ],
            "image/png": "[encoded data removed]"
          },
          "metadata": {
            "needs_background": "light"
          }
        }
      ]
    },
    {
      "cell_type": "code",
      "source": [
        "df.groupby(F.col(\"Educacao\")).agg(F.avg(\"Renda\").alias(\"Renda média por nível educacional\")).show()"
      ],
      "metadata": {
        "colab": {
          "base_uri": "https://localhost:8080/"
        },
        "id": "nCdGTyyIMJ6D",
        "outputId": "c30c3db3-9eab-4455-dce6-e55d87846ae5"
      },
      "execution_count": null,
      "outputs": [
        {
          "output_type": "stream",
          "name": "stdout",
          "text": [
            "+-------------+---------------------------------+\n",
            "|     Educacao|Renda média por nível educacional|\n",
            "+-------------+---------------------------------+\n",
            "|Pós-graduação|                54733.14369158878|\n",
            "|     Superior|                51936.31842105263|\n",
            "|       Básico|                20306.25925925926|\n",
            "+-------------+---------------------------------+\n",
            "\n"
          ]
        }
      ]
    },
    {
      "cell_type": "markdown",
      "source": [
        "## Items comprados por categorias"
      ],
      "metadata": {
        "id": "vGRyxwSZAjvX"
      }
    },
    {
      "cell_type": "markdown",
      "source": [
        "### Escolaridade"
      ],
      "metadata": {
        "id": "i1_nSE-4GCR3"
      }
    },
    {
      "cell_type": "code",
      "source": [
        "df.groupby(\"Educacao\").agg(F.avg('Vinho').alias('Vinho'),F.avg('Frutas').alias('Frutas'),F.avg('Ouro').alias('Ouro'),F.avg('Carnes').alias('Carnes'),F.avg('Peixes').alias('Peixes'), F.avg('Doces').alias('Doces')).show()\n",
        "(df.groupby(\"Educacao\").agg(F.avg('Vinho').alias('Vinho'),F.avg('Frutas').alias('Frutas'),F.avg('Ouro').alias('Ouro'),F.avg('Carnes').alias('Carnes'),F.avg('Peixes').alias('Peixes'), F.avg('Doces').alias('Doces'))\n",
        "    .toPandas().plot.barh(x='Educacao',title='Media de gasto com cada produto por escolaridade',figsize=(16,8)))"
      ],
      "metadata": {
        "colab": {
          "base_uri": "https://localhost:8080/"
        },
        "id": "7yRTVObFDfvz",
        "outputId": "65dc6579-7031-490b-b6ee-f7ddad8b7e20"
      },
      "execution_count": null,
      "outputs": [
        {
          "output_type": "stream",
          "name": "stdout",
          "text": [
            "+-------------+------------------+------------------+------------------+------------------+------------------+------------------+\n",
            "|     Educacao|             Vinho|            Frutas|              Ouro|            Carnes|            Peixes|             Doces|\n",
            "+-------------+------------------+------------------+------------------+------------------+------------------+------------------+\n",
            "|Pós-graduação|           373.625|20.742990654205606| 35.80607476635514| 166.3446261682243|29.050233644859812|20.634345794392523|\n",
            "|     Superior|271.12932330827067| 30.49699248120301|50.169924812030075|173.65338345864663| 43.81127819548872|31.807518796992483|\n",
            "|       Básico|7.2407407407407405| 11.11111111111111|22.833333333333332|11.444444444444445|17.055555555555557| 12.11111111111111|\n",
            "+-------------+------------------+------------------+------------------+------------------+------------------+------------------+\n",
            "\n"
          ]
        },
        {
          "output_type": "execute_result",
          "data": {
            "text/plain": [
              "<matplotlib.axes._subplots.AxesSubplot at 0x7f9fcb12f8d0>"
            ]
          },
          "metadata": {},
          "execution_count": 35
        },
        {
          "output_type": "display_data",
          "data": {
            "text/plain": [
              "<Figure size 1152x576 with 1 Axes>"
            ],
            "image/png": "[encoded data removed]"
          },
          "metadata": {
            "needs_background": "light"
          }
        }
      ]
    },
    {
      "cell_type": "markdown",
      "source": [
        "Pessoas com níveis de escolaridade mais alto costumam gastar muito mais em vinhos, no nível básico é um item menos oneroso."
      ],
      "metadata": {
        "id": "QGnT829YwiOv"
      }
    },
    {
      "cell_type": "markdown",
      "source": [
        "### Renda"
      ],
      "metadata": {
        "id": "xQv0TJ4aHV8Z"
      }
    },
    {
      "cell_type": "code",
      "source": [
        "vinho = F.avg(\"Vinho\").alias(\"Vinhos\")\n",
        "ouro = F.avg(\"Ouro\").alias(\"Ouros\")\n",
        "frutas = F.avg(\"Frutas\").alias(\"Frutas\")\n",
        "carnes = F.avg(\"Carnes\").alias(\"Carnes\")\n",
        "peixes = F.avg(\"Peixes\").alias(\"Peixes\")\n",
        "doces = F.avg(\"Doces\").alias(\"Doces\")\n",
        "df.groupby(\"Faixa_de_rendas\").agg(vinho,ouro,frutas,carnes,peixes,doces).orderBy(F.col(\"Faixa_de_rendas\")).show()\n",
        "\n",
        "(df.groupby(\"Faixa_de_rendas\").agg(vinho,ouro,frutas,carnes,peixes,doces).orderBy(F.col(\"Faixa_de_rendas\"))\n",
        ".toPandas().plot.barh(x='Faixa_de_rendas', subplots=True, title='Média de gastos com cada produto por faixa de renda',figsize=(12,16)))"
      ],
      "metadata": {
        "colab": {
          "base_uri": "https://localhost:8080/",
          "height": 1000
        },
        "id": "uYHI1iJOKmhu",
        "outputId": "3b9a8911-53fb-41e2-821f-8fc392341e70"
      },
      "execution_count": null,
      "outputs": [
        {
          "output_type": "stream",
          "name": "stdout",
          "text": [
            "+--------------------+------------------+------------------+------------------+------------------+------------------+------------------+\n",
            "|     Faixa_de_rendas|            Vinhos|             Ouros|            Frutas|            Carnes|            Peixes|             Doces|\n",
            "+--------------------+------------------+------------------+------------------+------------------+------------------+------------------+\n",
            "|    1-Entre 0 e 5000|               4.5|54.333333333333336|1.3333333333333333|             290.5|               1.0|1.1666666666666667|\n",
            "|2-Entre 5001 e 10000| 19.52173913043478| 41.52173913043478| 8.782608695652174|13.478260869565217| 6.434782608695652| 6.565217391304348|\n",
            "|3-Entre 10001 e 2...|10.384976525821596|15.408450704225352| 5.938967136150235|15.014084507042254| 8.244131455399062| 6.446009389671362|\n",
            "|4-Entre 25001 e 5...|  84.1400730816078|22.393422655298416| 7.049939098660171| 39.70158343483557|11.654080389768575|7.1863580998781975|\n",
            "|5-Entre 50001 e 1...| 520.7637457044674|  64.4733676975945| 44.01288659793814| 283.8109965635739| 62.01890034364261|45.083333333333336|\n",
            "|  6-Maior que 100000|221.53846153846155| 47.23076923076923| 32.53846153846154|443.53846153846155|29.923076923076923| 54.84615384615385|\n",
            "+--------------------+------------------+------------------+------------------+------------------+------------------+------------------+\n",
            "\n"
          ]
        },
        {
          "output_type": "execute_result",
          "data": {
            "text/plain": [
              "array([<matplotlib.axes._subplots.AxesSubplot object at 0x7f9fcb024210>,\n",
              "       <matplotlib.axes._subplots.AxesSubplot object at 0x7f9fcafc7990>,\n",
              "       <matplotlib.axes._subplots.AxesSubplot object at 0x7f9fcaf7acd0>,\n",
              "       <matplotlib.axes._subplots.AxesSubplot object at 0x7f9fcaf33fd0>,\n",
              "       <matplotlib.axes._subplots.AxesSubplot object at 0x7f9fcaef1710>,\n",
              "       <matplotlib.axes._subplots.AxesSubplot object at 0x7f9fcaea9a50>],\n",
              "      dtype=object)"
            ]
          },
          "metadata": {},
          "execution_count": 37
        },
        {
          "output_type": "display_data",
          "data": {
            "text/plain": [
              "<Figure size 864x1152 with 6 Axes>"
            ],
            "image/png": "[encoded data removed]"
          },
          "metadata": {
            "needs_background": "light"
          }
        }
      ]
    },
    {
      "cell_type": "markdown",
      "source": [
        "### Faixa de idade"
      ],
      "metadata": {
        "id": "VVkIoZIvOr1h"
      }
    },
    {
      "cell_type": "code",
      "source": [
        "vinho = F.avg(\"Vinho\").alias(\"Vinhos\")\n",
        "ouro = F.avg(\"Ouro\").alias(\"Ouros\")\n",
        "frutas = F.avg(\"Frutas\").alias(\"Frutas\")\n",
        "carnes = F.avg(\"Carnes\").alias(\"Carnes\")\n",
        "peixes = F.avg(\"Peixes\").alias(\"Peixes\")\n",
        "doces = F.avg(\"Doces\").alias(\"Doces\")\n",
        "\n",
        "df.groupby(\"Faixas_ano_nascimento\").agg(vinho,ouro,frutas,carnes,peixes,doces).orderBy(F.col(\"Faixas_ano_nascimento\")).show()\n",
        "\n",
        "(df.groupby(\"Faixas_ano_nascimento\").agg(vinho,ouro,frutas,carnes,peixes,doces).orderBy(F.col(\"Faixas_ano_nascimento\"))\n",
        ".toPandas().plot.barh(x='Faixas_ano_nascimento', xlabel='Ano de nascimento', title='Média de gastos com cada produto por ano de nascimento',figsize=(8,12)))"
      ],
      "metadata": {
        "colab": {
          "base_uri": "https://localhost:8080/",
          "height": 907
        },
        "id": "We6zIHKiRkOM",
        "outputId": "fb666e84-7e71-4d61-8574-892ebb3c6077"
      },
      "execution_count": null,
      "outputs": [
        {
          "output_type": "stream",
          "name": "stdout",
          "text": [
            "+---------------------+------------------+------------------+------------------+------------------+------------------+------------------+\n",
            "|Faixas_ano_nascimento|            Vinhos|             Ouros|            Frutas|            Carnes|            Peixes|             Doces|\n",
            "+---------------------+------------------+------------------+------------------+------------------+------------------+------------------+\n",
            "|        Antes de 1920| 259.3333333333333| 83.66666666666667|              50.0|191.66666666666666|39.333333333333336|22.666666666666668|\n",
            "|    Entre 1921 e 1940|             144.0|               6.0|               0.0|               7.0|               0.0|               0.0|\n",
            "|    Entre 1941 e 1960| 373.7886178861789|48.926829268292686|28.234146341463415| 190.1609756097561| 43.46991869918699|29.891056910569105|\n",
            "|    Entre 1961 e 1980|285.22087378640776| 41.80339805825243|24.583333333333332|149.87540453074433|33.797734627831716| 25.25728155339806|\n",
            "|    Entre 1981 e 2000| 253.1974025974026|  43.0987012987013|28.618181818181817|184.91168831168832| 40.08051948051948|28.446753246753246|\n",
            "+---------------------+------------------+------------------+------------------+------------------+------------------+------------------+\n",
            "\n"
          ]
        },
        {
          "output_type": "execute_result",
          "data": {
            "text/plain": [
              "<matplotlib.axes._subplots.AxesSubplot at 0x7f9fcacea250>"
            ]
          },
          "metadata": {},
          "execution_count": 38
        },
        {
          "output_type": "display_data",
          "data": {
            "text/plain": [
              "<Figure size 576x864 with 1 Axes>"
            ],
            "image/png": "[encoded data removed]"
          },
          "metadata": {
            "needs_background": "light"
          }
        }
      ]
    },
    {
      "cell_type": "markdown",
      "source": [
        "## Clientes com mais gastos por escolaridade"
      ],
      "metadata": {
        "id": "opixz3qxWF1g"
      }
    },
    {
      "cell_type": "markdown",
      "source": [
        "particionando os dados sob a janela de educação"
      ],
      "metadata": {
        "id": "99G-tVu1ocEm"
      }
    },
    {
      "cell_type": "code",
      "source": [
        "window = Window.partitionBy(F.col('Educacao')).orderBy(F.desc('Total_Gasto'))"
      ],
      "metadata": {
        "id": "ay1Nn7l9WMnR"
      },
      "execution_count": null,
      "outputs": []
    },
    {
      "cell_type": "markdown",
      "source": [
        "filtros para melhor visualização"
      ],
      "metadata": {
        "id": "8t40heNWphUj"
      }
    },
    {
      "cell_type": "code",
      "source": [
        "basico = F.col('Educacao') == 'Básico'\n",
        "superior = F.col('Educacao') == 'Superior'\n",
        "pos = F.col('Educacao') == 'Pós-graduação'"
      ],
      "metadata": {
        "id": "_obXPhqYYyPr"
      },
      "execution_count": null,
      "outputs": []
    },
    {
      "cell_type": "markdown",
      "source": [
        "novas tabelas mostrando quais deles gastam mais em cada categoria educacional"
      ],
      "metadata": {
        "id": "OThs-LLbplt3"
      }
    },
    {
      "cell_type": "code",
      "source": [
        "basico_rank = df.filter(basico).withColumn('Rank', F.dense_rank().over(window)).select('Rank','ID','Total_Gasto').orderBy(F.desc('Total_Gasto')).show()\n"
      ],
      "metadata": {
        "colab": {
          "base_uri": "https://localhost:8080/"
        },
        "id": "Ey5e5QESY1oO",
        "outputId": "5d644143-2cf6-4c7b-fb20-8fb63c993b11"
      },
      "execution_count": null,
      "outputs": [
        {
          "output_type": "stream",
          "name": "stdout",
          "text": [
            "+----+-----+-----------+\n",
            "|Rank|   ID|Total_Gasto|\n",
            "+----+-----+-----------+\n",
            "|   1| 1951|        839|\n",
            "|   2| 5043|        434|\n",
            "|   3| 8151|        263|\n",
            "|   4| 4136|        119|\n",
            "|   5| 7620|        106|\n",
            "|   6|  642|        103|\n",
            "|   6| 7349|        103|\n",
            "|   7|  954|        102|\n",
            "|   7| 4669|        102|\n",
            "|   8|10395|        101|\n",
            "|   9|  524|         96|\n",
            "|   9|  880|         96|\n",
            "|  10| 3839|         88|\n",
            "|  11| 3628|         80|\n",
            "|  11| 9733|         80|\n",
            "|  11| 8462|         80|\n",
            "|  12| 5802|         75|\n",
            "|  12| 8686|         75|\n",
            "|  13| 1777|         74|\n",
            "|  14|11187|         69|\n",
            "+----+-----+-----------+\n",
            "only showing top 20 rows\n",
            "\n"
          ]
        }
      ]
    },
    {
      "cell_type": "code",
      "source": [
        "superior_rank = df.filter(superior).withColumn('Rank', F.dense_rank().over(window)).select('Rank','ID','Total_Gasto').orderBy(F.desc('Total_Gasto')).show()\n"
      ],
      "metadata": {
        "colab": {
          "base_uri": "https://localhost:8080/"
        },
        "id": "7vdu0L3HY0ip",
        "outputId": "3cb7af18-8202-444f-cb8e-a327af3a9170"
      },
      "execution_count": null,
      "outputs": [
        {
          "output_type": "stream",
          "name": "stdout",
          "text": [
            "+----+-----+-----------+\n",
            "|Rank|   ID|Total_Gasto|\n",
            "+----+-----+-----------+\n",
            "|   1| 1763|       2524|\n",
            "|   2| 4580|       2486|\n",
            "|   3|10133|       2349|\n",
            "|   4| 5386|       2302|\n",
            "|   4| 6024|       2302|\n",
            "|   5| 1553|       2283|\n",
            "|   6| 2147|       2279|\n",
            "|   7| 2186|       2257|\n",
            "|   8| 3334|       2211|\n",
            "|   9| 7503|       2209|\n",
            "|  10| 5236|       2194|\n",
            "|  11|  477|       2157|\n",
            "|  12| 7274|       2153|\n",
            "|  13| 3698|       2130|\n",
            "|  14| 6421|       2116|\n",
            "|  15|  313|       2088|\n",
            "|  16| 4910|       2074|\n",
            "|  17| 4947|       2059|\n",
            "|  18| 3139|       2052|\n",
            "|  19|  697|       2047|\n",
            "+----+-----+-----------+\n",
            "only showing top 20 rows\n",
            "\n"
          ]
        }
      ]
    },
    {
      "cell_type": "code",
      "source": [
        "pos_rank = df.filter(pos).withColumn('Rank', F.dense_rank().over(window)).select('Rank','ID','Total_Gasto').orderBy(F.desc('Total_Gasto')).show()\n"
      ],
      "metadata": {
        "colab": {
          "base_uri": "https://localhost:8080/"
        },
        "id": "onU44F-5Wl04",
        "outputId": "7d82c641-4de5-40b5-eb46-c90ff87e020f"
      },
      "execution_count": null,
      "outputs": [
        {
          "output_type": "stream",
          "name": "stdout",
          "text": [
            "+----+----+-----------+\n",
            "|Rank|  ID|Total_Gasto|\n",
            "+----+----+-----------+\n",
            "|   1|5735|       2525|\n",
            "|   1|5350|       2525|\n",
            "|   2|4475|       2440|\n",
            "|   3|5453|       2352|\n",
            "|   4|9010|       2346|\n",
            "|   5|1173|       2252|\n",
            "|   6| 737|       2231|\n",
            "|   7|6248|       2217|\n",
            "|   8|8867|       2126|\n",
            "|   8|2747|       2126|\n",
            "|   9|6932|       2119|\n",
            "|  10|9826|       2114|\n",
            "|  10|5830|       2114|\n",
            "|  11|7919|       2092|\n",
            "|  11|3403|       2092|\n",
            "|  12|3690|       2091|\n",
            "|  13| 203|       2089|\n",
            "|  14|6072|       2087|\n",
            "|  15|7627|       2086|\n",
            "|  16| 821|       2077|\n",
            "+----+----+-----------+\n",
            "only showing top 20 rows\n",
            "\n"
          ]
        }
      ]
    },
    {
      "cell_type": "markdown",
      "source": [
        "## Cliente estão sem comprar a muito tempo organizados por renda"
      ],
      "metadata": {
        "id": "ug9zBt82ZY2n"
      }
    },
    {
      "cell_type": "markdown",
      "source": [
        "Particionando em windows (janelas)"
      ],
      "metadata": {
        "id": "RtuROEsjdkNS"
      }
    },
    {
      "cell_type": "code",
      "source": [
        "window2 = Window.partitionBy(F.col('Educacao')).orderBy(F.desc('DiasDesdeUltimaCompra'),F.desc('Renda'))"
      ],
      "metadata": {
        "id": "L-55pdnYZl5E"
      },
      "execution_count": null,
      "outputs": []
    },
    {
      "cell_type": "markdown",
      "source": [
        "filtros para melhor visualização"
      ],
      "metadata": {
        "id": "eXeTyaP_di-H"
      }
    },
    {
      "cell_type": "code",
      "source": [
        "basico = F.col('Educacao') == 'Básico'\n",
        "superior = F.col('Educacao') == 'Superior'\n",
        "pos = F.col('Educacao') == 'Pós-graduação'"
      ],
      "metadata": {
        "id": "lGpWZnCrcvjN"
      },
      "execution_count": null,
      "outputs": []
    },
    {
      "cell_type": "markdown",
      "source": [
        "novas tabelas mostrando os clientes com mais dias sem compra divididos sob sua categoria"
      ],
      "metadata": {
        "id": "_4D0_nYap20w"
      }
    },
    {
      "cell_type": "code",
      "source": [
        "# Educação básica\n",
        "df.where(basico).withColumn('Rank', F.dense_rank().over(window2)).select('Rank','ID','DiasDesdeUltimaCompra','Renda').orderBy('Rank').show()\n"
      ],
      "metadata": {
        "colab": {
          "base_uri": "https://localhost:8080/"
        },
        "id": "53x1VDEDZwfb",
        "outputId": "9aa1bd5d-bd9f-411b-b0eb-48ba209e6ead"
      },
      "execution_count": null,
      "outputs": [
        {
          "output_type": "stream",
          "name": "stdout",
          "text": [
            "+----+----+---------------------+-------+\n",
            "|Rank|  ID|DiasDesdeUltimaCompra|  Renda|\n",
            "+----+----+---------------------+-------+\n",
            "|   1|8373|                   94|24594.0|\n",
            "|   1|3829|                   94|24594.0|\n",
            "|   2|3628|                   93|15038.0|\n",
            "|   3|1951|                   92|34445.0|\n",
            "|   4|5043|                   89|26997.0|\n",
            "|   5|8700|                   86|14906.0|\n",
            "|   6|5692|                   82|25443.0|\n",
            "|   7| 193|                   81|14421.0|\n",
            "|   8|2563|                   80|28249.0|\n",
            "|   8|8312|                   80|28249.0|\n",
            "|   9| 954|                   77|22123.0|\n",
            "|  10|3839|                   76|15056.0|\n",
            "|  11|7620|                   71|16185.0|\n",
            "|  12| 642|                   69|16005.0|\n",
            "|  13|1744|                   67|23529.0|\n",
            "|  14|8686|                   65|23724.0|\n",
            "|  15|5150|                   64|20194.0|\n",
            "|  16|4136|                   63| 7500.0|\n",
            "|  17| 387|                   59| 7500.0|\n",
            "|  18|5181|                   58|24367.0|\n",
            "+----+----+---------------------+-------+\n",
            "only showing top 20 rows\n",
            "\n"
          ]
        }
      ]
    },
    {
      "cell_type": "code",
      "source": [
        "# Superior\n",
        "df.where(superior).withColumn('Rank', F.dense_rank().over(window2)).select('Rank','ID','DiasDesdeUltimaCompra','Renda').orderBy('Rank').show()\n"
      ],
      "metadata": {
        "colab": {
          "base_uri": "https://localhost:8080/"
        },
        "id": "KFRP1JcfdGgL",
        "outputId": "a5adda84-800a-458c-98b1-26bf7ddbf6bb"
      },
      "execution_count": null,
      "outputs": [
        {
          "output_type": "stream",
          "name": "stdout",
          "text": [
            "+----+----+---------------------+-------+\n",
            "|Rank|  ID|DiasDesdeUltimaCompra|  Renda|\n",
            "+----+----+---------------------+-------+\n",
            "|   1|9977|                   99|78901.0|\n",
            "|   2|2831|                   99|78416.0|\n",
            "|   3|1743|                   99|69719.0|\n",
            "|   4| 528|                   99|65819.0|\n",
            "|   5|2415|                   99|62568.0|\n",
            "|   6|  22|                   99|46310.0|\n",
            "|   7| 868|                   99|44794.0|\n",
            "|   7|7212|                   99|44794.0|\n",
            "|   8|8595|                   99|42429.0|\n",
            "|   8|7232|                   99|42429.0|\n",
            "|   9|7947|                   99|42231.0|\n",
            "|  10|7829|                   99|36640.0|\n",
            "|  11|5263|                   99|31056.0|\n",
            "|  12|3363|                   99|20130.0|\n",
            "|  12|2106|                   99|20130.0|\n",
            "|  13|9757|                   98|84906.0|\n",
            "|  13|2088|                   98|84906.0|\n",
            "|  14|4974|                   98|83273.0|\n",
            "|  15|5687|                   98|81702.0|\n",
            "|  16| 313|                   98|73455.0|\n",
            "+----+----+---------------------+-------+\n",
            "only showing top 20 rows\n",
            "\n"
          ]
        }
      ]
    },
    {
      "cell_type": "code",
      "source": [
        "# Pós-graduação\n",
        "df.where(pos).withColumn('Rank', F.dense_rank().over(window2)).select('Rank','ID','DiasDesdeUltimaCompra','Renda').orderBy('Rank').show()\n"
      ],
      "metadata": {
        "colab": {
          "base_uri": "https://localhost:8080/"
        },
        "id": "PmmvX_ZCdK7a",
        "outputId": "9ceaf69b-1924-4e35-8709-faf85ec34fcf"
      },
      "execution_count": null,
      "outputs": [
        {
          "output_type": "stream",
          "name": "stdout",
          "text": [
            "+----+-----+---------------------+--------+\n",
            "|Rank|   ID|DiasDesdeUltimaCompra|   Renda|\n",
            "+----+-----+---------------------+--------+\n",
            "|   1| 4070|                   99| 94871.0|\n",
            "|   2|10142|                   99| 66476.0|\n",
            "|   3| 8475|                   98|157243.0|\n",
            "|   4| 3979|                   98| 90687.0|\n",
            "|   5| 6722|                   98| 70421.0|\n",
            "|   6| 5602|                   98| 66973.0|\n",
            "|   7| 8070|                   98| 54222.0|\n",
            "|   8| 5675|                   98| 50611.0|\n",
            "|   8| 7230|                   98| 50611.0|\n",
            "|   9| 9706|                   98| 31560.0|\n",
            "|  10| 5871|                   98| 24401.0|\n",
            "|  11|  213|                   98| 23091.0|\n",
            "|  12| 5153|                   97| 77766.0|\n",
            "|  12| 4127|                   97| 77766.0|\n",
            "|  13| 5441|                   97| 54111.0|\n",
            "|  14| 9925|                   97| 39665.0|\n",
            "|  15| 1663|                   97| 34043.0|\n",
            "|  16| 7527|                   97| 23748.0|\n",
            "|  17| 9826|                   96| 86857.0|\n",
            "|  17| 5830|                   96| 86857.0|\n",
            "+----+-----+---------------------+--------+\n",
            "only showing top 20 rows\n",
            "\n"
          ]
        }
      ]
    },
    {
      "cell_type": "markdown",
      "source": [
        "# SQL\n",
        "Utilizar no minimo 5 consultas diferentes utilizando o SparkSQL, comentando o porquê de ter escolhido essas funções e explicando o que cada consulta faz."
      ],
      "metadata": {
        "id": "5HQgMbTPtHxZ"
      }
    },
    {
      "cell_type": "markdown",
      "source": [
        "## CRIAÇÃO DA TABELA"
      ],
      "metadata": {
        "id": "_WTGZM2hIVYL"
      }
    },
    {
      "cell_type": "code",
      "source": [
        "df.createOrReplaceTempView('marketing')"
      ],
      "metadata": {
        "id": "Bj6HmPJetLj1"
      },
      "execution_count": null,
      "outputs": []
    },
    {
      "cell_type": "code",
      "source": [
        "spark.sql(\"SELECT * FROM marketing\").show()"
      ],
      "metadata": {
        "colab": {
          "base_uri": "https://localhost:8080/"
        },
        "id": "RKumRr9meOn9",
        "outputId": "97e21d48-a008-4800-9836-0267ffffd856"
      },
      "execution_count": null,
      "outputs": [
        {
          "output_type": "stream",
          "name": "stdout",
          "text": [
            "+----+-------------+-------------+-------+------------+---------------------+-----+------+------+------+-----+----+---------------------+----------------+------------------+--------------+--------------+----------------+----------------+----------------+----------------+----------------+--------+---------------------+-------+-----------+-----------------+--------------------+-----+-------------+---------------------+-----------+-----------------+\n",
            "|  ID|AnoNascimento|     Educacao|  Renda|DataCadastro|DiasDesdeUltimaCompra|Vinho|Frutas|Carnes|Peixes|Doces|Ouro|NumComprasComDesconto|NumComprasOnline|NumComprasCatalogo|NumComprasLoja|NumVisitasSite|AceitouCampanha3|AceitouCampanha4|AceitouCampanha5|AceitouCampanha1|AceitouCampanha2|Reclamou|AceitouUltimaCampanha|Familia|Total_Gasto|Faixa_total_gasto|     Faixa_de_rendas|idade|  Faixa_idade|Faixas_ano_nascimento|QTD_COMPRAS|Faixa_qtd_compras|\n",
            "+----+-------------+-------------+-------+------------+---------------------+-----+------+------+------+-----+----+---------------------+----------------+------------------+--------------+--------------+----------------+----------------+----------------+----------------+----------------+--------+---------------------+-------+-----------+-----------------+--------------------+-----+-------------+---------------------+-----------+-----------------+\n",
            "|5524|         1957|     Superior|58138.0|  2012-04-09|                   58|  635|    88|   546|   172|   88|  88|                    3|               8|                10|             4|             7|           false|           false|           false|           false|           false|   false|                 true|      1|       1617|Entre 1501 e 2000|5-Entre 50001 e 1...|   65|Entre 60 e 75|    Entre 1941 e 1960|         25|    Entre 25 e 32|\n",
            "|2174|         1954|     Superior|46344.0|  2014-08-03|                   38|   11|     1|     6|     2|    1|   6|                    2|               1|                 1|             2|             5|           false|           false|           false|           false|           false|   false|                false|      3|         27|    Entre 0 e 100|4-Entre 25001 e 5...|   68|Entre 60 e 75|    Entre 1941 e 1960|          6|    Entre 00 e 08|\n",
            "|4141|         1965|     Superior|71613.0|  2013-08-21|                   26|  426|    49|   127|   111|   21|  42|                    1|               8|                 2|            10|             4|           false|           false|           false|           false|           false|   false|                false|      2|        776| Entre 501 e 1000|5-Entre 50001 e 1...|   57|Entre 46 e 60|    Entre 1961 e 1980|         21|    Entre 17 e 24|\n",
            "|6182|         1984|     Superior|26646.0|  2014-10-02|                   26|   11|     4|    20|    10|    3|   5|                    2|               2|                 0|             4|             6|           false|           false|           false|           false|           false|   false|                false|      3|         53|    Entre 0 e 100|4-Entre 25001 e 5...|   38|Entre 31 e 45|    Entre 1981 e 2000|          8|    Entre 00 e 08|\n",
            "|5324|         1981|Pós-graduação|58293.0|  2014-01-19|                   94|  173|    43|   118|    46|   27|  15|                    5|               5|                 3|             6|             5|           false|           false|           false|           false|           false|   false|                false|      3|        422|  Entre 101 e 500|5-Entre 50001 e 1...|   41|Entre 31 e 45|    Entre 1981 e 2000|         19|    Entre 17 e 24|\n",
            "|7446|         1967|Pós-graduação|62513.0|  2013-09-09|                   16|  520|    42|    98|     0|   42|  14|                    2|               6|                 4|            10|             6|           false|           false|           false|           false|           false|   false|                false|      3|        716| Entre 501 e 1000|5-Entre 50001 e 1...|   55|Entre 46 e 60|    Entre 1961 e 1980|         22|    Entre 17 e 24|\n",
            "| 965|         1971|     Superior|55635.0|  2012-11-13|                   34|  235|    65|   164|    50|   49|  27|                    4|               7|                 3|             7|             6|           false|           false|           false|           false|           false|   false|                false|      2|        590| Entre 501 e 1000|5-Entre 50001 e 1...|   51|Entre 46 e 60|    Entre 1961 e 1980|         21|    Entre 17 e 24|\n",
            "|6177|         1985|Pós-graduação|33454.0|  2013-08-05|                   32|   76|    10|    56|     3|    1|  23|                    2|               4|                 0|             4|             8|           false|           false|           false|           false|           false|   false|                false|      3|        169|  Entre 101 e 500|4-Entre 25001 e 5...|   37|Entre 31 e 45|    Entre 1981 e 2000|         10|    Entre 09 e 16|\n",
            "|4855|         1974|Pós-graduação|30351.0|  2013-06-06|                   19|   14|     0|    24|     3|    3|   2|                    1|               3|                 0|             2|             9|           false|           false|           false|           false|           false|   false|                 true|      3|         46|    Entre 0 e 100|4-Entre 25001 e 5...|   48|Entre 46 e 60|    Entre 1961 e 1980|          6|    Entre 00 e 08|\n",
            "|5899|         1950|Pós-graduação| 5648.0|  2014-03-13|                   68|   28|     0|     6|     1|    1|  13|                    1|               1|                 0|             0|            20|            true|           false|           false|           false|           false|   false|                false|      4|         49|    Entre 0 e 100|2-Entre 5001 e 10000|   72|Entre 60 e 75|    Entre 1941 e 1960|          2|    Entre 00 e 08|\n",
            "|1994|         1983|     Superior|52028.5|  2013-11-15|                   11|    5|     5|     6|     0|    2|   1|                    1|               1|                 0|             2|             7|           false|           false|           false|           false|           false|   false|                false|      3|         19|    Entre 0 e 100|5-Entre 50001 e 1...|   39|Entre 31 e 45|    Entre 1981 e 2000|          4|    Entre 00 e 08|\n",
            "| 387|         1976|       Básico| 7500.0|  2012-11-13|                   59|    6|    16|    11|    11|    1|  16|                    1|               2|                 0|             3|             8|           false|           false|           false|           false|           false|   false|                false|      2|         61|    Entre 0 e 100|2-Entre 5001 e 10000|   46|Entre 46 e 60|    Entre 1961 e 1980|          6|    Entre 00 e 08|\n",
            "|2125|         1959|     Superior|63033.0|  2013-11-15|                   82|  194|    61|   480|   225|  112|  30|                    1|               3|                 4|             8|             2|           false|           false|           false|           false|           false|   false|                false|      1|       1102|Entre 1001 e 1500|5-Entre 50001 e 1...|   63|Entre 60 e 75|    Entre 1941 e 1960|         16|    Entre 09 e 16|\n",
            "|8180|         1952|Pós-graduação|59354.0|  2013-11-15|                   53|  233|     2|    53|     3|    5|  14|                    3|               6|                 1|             5|             6|           false|           false|           false|           false|           false|   false|                false|      3|        310|  Entre 101 e 500|5-Entre 50001 e 1...|   70|Entre 60 e 75|    Entre 1941 e 1960|         15|    Entre 09 e 16|\n",
            "|2569|         1987|     Superior|17323.0|  2012-10-10|                   38|    3|    14|    17|     6|    1|   5|                    1|               1|                 0|             3|             8|           false|           false|           false|           false|           false|   false|                false|      2|         46|    Entre 0 e 100|3-Entre 10001 e 2...|   35|Entre 31 e 45|    Entre 1981 e 2000|          5|    Entre 00 e 08|\n",
            "|2114|         1946|Pós-graduação|82800.0|  2012-11-24|                   23| 1006|    22|   115|    59|   68|  45|                    1|               7|                 6|            12|             3|           false|           false|            true|            true|           false|   false|                 true|      1|       1315|Entre 1001 e 1500|5-Entre 50001 e 1...|   76|Entre 75 e 90|    Entre 1941 e 1960|         26|    Entre 25 e 32|\n",
            "|9736|         1980|     Superior|41850.0|  2012-12-24|                   51|   53|     5|    19|     2|   13|   4|                    3|               3|                 0|             3|             8|           false|           false|           false|           false|           false|   false|                false|      4|         96|    Entre 0 e 100|4-Entre 25001 e 5...|   42|Entre 31 e 45|    Entre 1961 e 1980|          9|    Entre 09 e 16|\n",
            "|4939|         1946|     Superior|37760.0|  2012-08-31|                   20|   84|     5|    38|   150|   12|  28|                    2|               4|                 1|             6|             7|           false|           false|           false|           false|           false|   false|                false|      2|        317|  Entre 101 e 500|4-Entre 25001 e 5...|   76|Entre 75 e 90|    Entre 1941 e 1960|         13|    Entre 09 e 16|\n",
            "|6565|         1949|Pós-graduação|76995.0|  2013-03-28|                   91| 1012|    80|   498|     0|   16| 176|                    2|              11|                 4|             9|             5|           false|           false|           false|            true|           false|   false|                false|      3|       1782|Entre 1501 e 2000|5-Entre 50001 e 1...|   73|Entre 60 e 75|    Entre 1941 e 1960|         26|    Entre 25 e 32|\n",
            "|2278|         1985|     Superior|33812.0|  2012-03-11|                   86|    4|    17|    19|    30|   24|  39|                    2|               2|                 1|             3|             6|           false|           false|           false|           false|           false|   false|                false|      2|        133|  Entre 101 e 500|4-Entre 25001 e 5...|   37|Entre 31 e 45|    Entre 1981 e 2000|          8|    Entre 00 e 08|\n",
            "+----+-------------+-------------+-------+------------+---------------------+-----+------+------+------+-----+----+---------------------+----------------+------------------+--------------+--------------+----------------+----------------+----------------+----------------+----------------+--------+---------------------+-------+-----------+-----------------+--------------------+-----+-------------+---------------------+-----------+-----------------+\n",
            "only showing top 20 rows\n",
            "\n"
          ]
        }
      ]
    },
    {
      "cell_type": "markdown",
      "source": [
        "## `SELECT * FROM marketing WHERE QTD_COMPRAS > 10 AND Reclamou = true AND DiasDesdeUltimaCompra > 30`\n"
      ],
      "metadata": {
        "id": "JJNPs46ZIcVp"
      }
    },
    {
      "cell_type": "markdown",
      "source": [
        "Buscando clientes que reclamaram, tem um considerável volume de compras no passado e está já a algum tempo sem comprar. Pode haver algum haver algum problema que afastou o cliente. Bom para time de vendas agir."
      ],
      "metadata": {
        "id": "gIzx2vLIDUKz"
      }
    },
    {
      "cell_type": "code",
      "source": [
        "spark.sql('''\n",
        "SELECT * FROM marketing WHERE QTD_COMPRAS > 10 AND Reclamou = true AND DiasDesdeUltimaCompra > 30\n",
        "''').show()\n"
      ],
      "metadata": {
        "colab": {
          "base_uri": "https://localhost:8080/"
        },
        "id": "v2rTgxjoz98t",
        "outputId": "3284802a-96b2-414c-aa3d-7b654ba74f3c"
      },
      "execution_count": null,
      "outputs": [
        {
          "output_type": "stream",
          "name": "stdout",
          "text": [
            "+----+-------------+-------------+-------+------------+---------------------+-----+------+------+------+-----+----+---------------------+----------------+------------------+--------------+--------------+----------------+----------------+----------------+----------------+----------------+--------+---------------------+-------+-----------+-----------------+--------------------+-----+-------------+---------------------+-----------+-----------------+\n",
            "|  ID|AnoNascimento|     Educacao|  Renda|DataCadastro|DiasDesdeUltimaCompra|Vinho|Frutas|Carnes|Peixes|Doces|Ouro|NumComprasComDesconto|NumComprasOnline|NumComprasCatalogo|NumComprasLoja|NumVisitasSite|AceitouCampanha3|AceitouCampanha4|AceitouCampanha5|AceitouCampanha1|AceitouCampanha2|Reclamou|AceitouUltimaCampanha|Familia|Total_Gasto|Faixa_total_gasto|     Faixa_de_rendas|idade|  Faixa_idade|Faixas_ano_nascimento|QTD_COMPRAS|Faixa_qtd_compras|\n",
            "+----+-------------+-------------+-------+------------+---------------------+-----+------+------+------+-----+----+---------------------+----------------+------------------+--------------+--------------+----------------+----------------+----------------+----------------+----------------+--------+---------------------+-------+-----------+-----------------+--------------------+-----+-------------+---------------------+-----------+-----------------+\n",
            "|6142|         1943|Pós-graduação|65073.0|  2013-08-20|                   65|  629|    17|   177|    69|    0|   8|                    1|               5|                 3|             5|             2|           false|           false|           false|           false|           false|    true|                false|      2|        900| Entre 501 e 1000|5-Entre 50001 e 1...|   79|Entre 75 e 90|    Entre 1941 e 1960|         14|    Entre 09 e 16|\n",
            "|2875|         1978|     Superior|67023.0|  2014-04-03|                   93|  444|    44|   382|    11|    8|  17|                    1|               3|                 7|            13|             2|           false|           false|           false|           false|           false|    true|                false|      2|        906| Entre 501 e 1000|5-Entre 50001 e 1...|   44|Entre 31 e 45|    Entre 1961 e 1980|         24|    Entre 17 e 24|\n",
            "| 359|         1950|     Superior|48070.0|  2013-01-13|                   33|  373|    14|    83|     6|    9|  19|                    3|               8|                 2|             6|             7|           false|           false|           false|           false|           false|    true|                false|      3|        504| Entre 501 e 1000|4-Entre 25001 e 5...|   72|Entre 60 e 75|    Entre 1941 e 1960|         19|    Entre 17 e 24|\n",
            "|9500|         1959|     Superior|58113.0|  2013-01-25|                   66|  221|   104|   169|   102|   78|  84|                    3|               9|                 2|             8|             7|           false|           false|           false|           false|           false|    true|                false|      3|        758| Entre 501 e 1000|5-Entre 50001 e 1...|   63|Entre 60 e 75|    Entre 1941 e 1960|         22|    Entre 17 e 24|\n",
            "|7192|         1955|     Superior|65748.0|  2013-04-15|                   58|  172|    73|    93|    95|   78|  34|                    2|               2|                 4|            10|             1|           false|           false|           false|           false|           false|    true|                false|      3|        545| Entre 501 e 1000|5-Entre 50001 e 1...|   67|Entre 60 e 75|    Entre 1941 e 1960|         18|    Entre 17 e 24|\n",
            "|4427|         1995|     Superior|83257.0|  2012-09-18|                   56|  536|    27|   590|    38|  107|  67|                    1|               5|                10|            12|             6|            true|           false|            true|           false|           false|    true|                 true|      1|       1365|Entre 1001 e 1500|5-Entre 50001 e 1...|   27| Entre 0 e 30|    Entre 1981 e 2000|         28|    Entre 25 e 32|\n",
            "|7966|         1959|     Superior|80982.0|  2013-08-01|                   48|  505|   137|   401|   104|   22|  22|                    3|              11|                 5|            11|             5|           false|           false|           false|           false|           false|    true|                false|      3|       1191|Entre 1001 e 1500|5-Entre 50001 e 1...|   63|Entre 60 e 75|    Entre 1941 e 1960|         30|    Entre 25 e 32|\n",
            "+----+-------------+-------------+-------+------------+---------------------+-----+------+------+------+-----+----+---------------------+----------------+------------------+--------------+--------------+----------------+----------------+----------------+----------------+----------------+--------+---------------------+-------+-----------+-----------------+--------------------+-----+-------------+---------------------+-----------+-----------------+\n",
            "\n"
          ]
        }
      ]
    },
    {
      "cell_type": "markdown",
      "source": [
        "## `SELECT Faixas_ano_nascimento, ROUND(MEAN(Vinho),2) media_gasto_vinho FROM marketing WHERE QTD_COMPRAS > 5 GROUP BY Faixas_ano_nascimento`"
      ],
      "metadata": {
        "id": "PJks9_C4Hi36"
      }
    },
    {
      "cell_type": "markdown",
      "source": [
        "Buscar a media de gastos de vinho por faixa de ano de nascimento onde tenham comprado pelo menos 5 produtos"
      ],
      "metadata": {
        "id": "3SM_c9O5LYl_"
      }
    },
    {
      "cell_type": "code",
      "source": [
        "spark.sql('''\n",
        "SELECT Faixas_ano_nascimento, ROUND(AVG(Vinho),2) media_gasto_vinho FROM marketing WHERE QTD_COMPRAS > 5 GROUP BY Faixas_ano_nascimento ORDER BY Faixas_ano_nascimento ASC \n",
        "''').show(100)\n",
        "\n"
      ],
      "metadata": {
        "colab": {
          "base_uri": "https://localhost:8080/"
        },
        "id": "AeDFXOQe3jr9",
        "outputId": "75d0526c-6d2b-4462-9878-f61cb6c5b148"
      },
      "execution_count": null,
      "outputs": [
        {
          "output_type": "stream",
          "name": "stdout",
          "text": [
            "+---------------------+-----------------+\n",
            "|Faixas_ano_nascimento|media_gasto_vinho|\n",
            "+---------------------+-----------------+\n",
            "|        Antes de 1920|            385.0|\n",
            "|    Entre 1921 e 1940|            144.0|\n",
            "|    Entre 1941 e 1960|           411.85|\n",
            "|    Entre 1961 e 1980|           323.94|\n",
            "|    Entre 1981 e 2000|           308.54|\n",
            "+---------------------+-----------------+\n",
            "\n"
          ]
        }
      ]
    },
    {
      "cell_type": "markdown",
      "source": [
        "## Buscando a quantidade media de compras que cada faixa de renda faz em cada uma dos modelos de vendas"
      ],
      "metadata": {
        "id": "sgxWEv5sNrQY"
      }
    },
    {
      "cell_type": "markdown",
      "source": [
        "agrupando por faixa de renda atraves de `group by`, calculando a media por `avg` para pegar a media e `CEILING` para arredondar para um menor inteiro."
      ],
      "metadata": {
        "id": "gkEPCgU-cEOY"
      }
    },
    {
      "cell_type": "code",
      "source": [
        "spark.sql('''\n",
        "SELECT Faixa_de_rendas, CEILING(AVG(NumComprasOnline)) AS MediaComprasOnline, \n",
        "CEILING(AVG(NumComprasCatalogo)) MediaComprasCatalogo, CEILING(AVG(NumComprasLoja)) MediaComprasLoja \n",
        "FROM marketing GROUP BY Faixa_de_rendas ORDER BY Faixa_de_rendas ASC\n",
        "''').show(100)"
      ],
      "metadata": {
        "colab": {
          "base_uri": "https://localhost:8080/"
        },
        "id": "YqDFcNS2Grl_",
        "outputId": "d08bca71-d8f2-4561-8371-dc9181d555c1"
      },
      "execution_count": null,
      "outputs": [
        {
          "output_type": "stream",
          "name": "stdout",
          "text": [
            "+--------------------+------------------+--------------------+----------------+\n",
            "|     Faixa_de_rendas|MediaComprasOnline|MediaComprasCatalogo|MediaComprasLoja|\n",
            "+--------------------+------------------+--------------------+----------------+\n",
            "|    1-Entre 0 e 5000|                 5|                   5|               0|\n",
            "|2-Entre 5001 e 10000|                 3|                   1|               3|\n",
            "|3-Entre 10001 e 2...|                 2|                   1|               3|\n",
            "|4-Entre 25001 e 5...|                 3|                   1|               4|\n",
            "|5-Entre 50001 e 1...|                 6|                   5|               8|\n",
            "|  6-Maior que 100000|                 5|                   9|               5|\n",
            "+--------------------+------------------+--------------------+----------------+\n",
            "\n"
          ]
        }
      ]
    },
    {
      "cell_type": "markdown",
      "source": [
        "## Buscando qual faixa de renda faz mais compras na loja"
      ],
      "metadata": {
        "id": "0M-Gn2nFcdJF"
      }
    },
    {
      "cell_type": "markdown",
      "source": [
        "Gera uma tabela que soma todas as modalidades de compra e faz uma busca nessa nova tabela somando todas as compras e agrupando o resultado em faixas de rendas atraves do `group by` "
      ],
      "metadata": {
        "id": "ehuBuAtycvB8"
      }
    },
    {
      "cell_type": "code",
      "source": [
        "spark.sql('''SELECT A.Faixa_de_rendas, SUM(A.compras) AS compras_totais FROM \n",
        "(SELECT Faixa_de_rendas, (NumComprasOnline + NumComprasCatalogo + NumComprasLoja) AS compras FROM marketing) A\n",
        "GROUP BY A.Faixa_de_rendas\n",
        "ORDER BY A.Faixa_de_rendas\n",
        "''').show()"
      ],
      "metadata": {
        "colab": {
          "base_uri": "https://localhost:8080/"
        },
        "id": "ML_Qq3bZa5PI",
        "outputId": "7c167780-f43a-439e-e2d4-cf7308fccda0"
      },
      "execution_count": null,
      "outputs": [
        {
          "output_type": "stream",
          "name": "stdout",
          "text": [
            "+--------------------+--------------+\n",
            "|     Faixa_de_rendas|compras_totais|\n",
            "+--------------------+--------------+\n",
            "|    1-Entre 0 e 5000|            53|\n",
            "|2-Entre 5001 e 10000|           127|\n",
            "|3-Entre 10001 e 2...|          1102|\n",
            "|4-Entre 25001 e 5...|          6062|\n",
            "|5-Entre 50001 e 1...|         20512|\n",
            "|  6-Maior que 100000|           227|\n",
            "+--------------------+--------------+\n",
            "\n"
          ]
        }
      ]
    },
    {
      "cell_type": "markdown",
      "source": [
        "## Buscando a quantidade de compras feita por cada cliente"
      ],
      "metadata": {
        "id": "o4sbGikidSGv"
      }
    },
    {
      "cell_type": "markdown",
      "source": [
        "Gera uma tabela que soma todas as modalidades de compra e faz uma busca nessa nova tabela somando todas as compras e agrupando o resultado pelo `ID` unico do cliente atraves do `group by`"
      ],
      "metadata": {
        "id": "FtvQ8dFHdZll"
      }
    },
    {
      "cell_type": "code",
      "source": [
        "spark.sql('''SELECT A.ID, SUM(A.compras) AS compras_totais FROM\n",
        "  (SELECT ID, (NumComprasOnline + NumComprasCatalogo + NumComprasLoja) AS compras FROM marketing) AS A\n",
        "  GROUP BY A.ID\n",
        "  ORDER BY A.ID\n",
        "''').show()"
      ],
      "metadata": {
        "colab": {
          "base_uri": "https://localhost:8080/"
        },
        "id": "9OxO1kSgYIVx",
        "outputId": "2eb03f2f-db31-47ed-d0ef-227e7830df32"
      },
      "execution_count": null,
      "outputs": [
        {
          "output_type": "stream",
          "name": "stdout",
          "text": [
            "+---+--------------+\n",
            "| ID|compras_totais|\n",
            "+---+--------------+\n",
            "|  0|            16|\n",
            "|  1|            17|\n",
            "|  9|             7|\n",
            "| 13|             4|\n",
            "| 17|            24|\n",
            "| 20|             7|\n",
            "| 22|            12|\n",
            "| 24|             7|\n",
            "| 25|            19|\n",
            "| 35|             7|\n",
            "| 48|             8|\n",
            "| 49|             4|\n",
            "| 55|            18|\n",
            "| 67|             6|\n",
            "| 73|             3|\n",
            "| 75|            14|\n",
            "| 78|             4|\n",
            "| 87|             5|\n",
            "| 89|             6|\n",
            "| 92|             7|\n",
            "+---+--------------+\n",
            "only showing top 20 rows\n",
            "\n"
          ]
        }
      ]
    }
  ]
}